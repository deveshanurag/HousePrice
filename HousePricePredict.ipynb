{
 "cells": [
  {
   "cell_type": "code",
   "execution_count": 1,
   "id": "e9fb3214",
   "metadata": {
    "_cell_guid": "b1076dfc-b9ad-4769-8c92-a6c4dae69d19",
    "_uuid": "8f2839f25d086af736a60e9eeb907d3b93b6e0e5",
    "execution": {
     "iopub.execute_input": "2025-01-28T13:15:36.495528Z",
     "iopub.status.busy": "2025-01-28T13:15:36.495054Z",
     "iopub.status.idle": "2025-01-28T13:15:37.538346Z",
     "shell.execute_reply": "2025-01-28T13:15:37.536763Z"
    },
    "papermill": {
     "duration": 1.057937,
     "end_time": "2025-01-28T13:15:37.540504",
     "exception": false,
     "start_time": "2025-01-28T13:15:36.482567",
     "status": "completed"
    },
    "tags": []
   },
   "outputs": [
    {
     "name": "stdout",
     "output_type": "stream",
     "text": [
      "/kaggle/input/house-prices-advanced-regression-techniques/sample_submission.csv\n",
      "/kaggle/input/house-prices-advanced-regression-techniques/data_description.txt\n",
      "/kaggle/input/house-prices-advanced-regression-techniques/train.csv\n",
      "/kaggle/input/house-prices-advanced-regression-techniques/test.csv\n"
     ]
    }
   ],
   "source": [
    "# This Python 3 environment comes with many helpful analytics libraries installed\n",
    "# It is defined by the kaggle/python Docker image: https://github.com/kaggle/docker-python\n",
    "# For example, here's several helpful packages to load\n",
    "\n",
    "import numpy as np # linear algebra\n",
    "import pandas as pd # data processing, CSV file I/O (e.g. pd.read_csv)\n",
    "\n",
    "# Input data files are available in the read-only \"../input/\" directory\n",
    "# For example, running this (by clicking run or pressing Shift+Enter) will list all files under the input directory\n",
    "\n",
    "import os\n",
    "for dirname, _, filenames in os.walk('/kaggle/input'):\n",
    "    for filename in filenames:\n",
    "        print(os.path.join(dirname, filename))\n",
    "\n",
    "# You can write up to 20GB to the current directory (/kaggle/working/) that gets preserved as output when you create a version using \"Save & Run All\" \n",
    "# You can also write temporary files to /kaggle/temp/, but they won't be saved outside of the current session"
   ]
  },
  {
   "cell_type": "code",
   "execution_count": 2,
   "id": "0523d67a",
   "metadata": {
    "execution": {
     "iopub.execute_input": "2025-01-28T13:15:37.565194Z",
     "iopub.status.busy": "2025-01-28T13:15:37.564693Z",
     "iopub.status.idle": "2025-01-28T13:15:37.614110Z",
     "shell.execute_reply": "2025-01-28T13:15:37.612620Z"
    },
    "papermill": {
     "duration": 0.064381,
     "end_time": "2025-01-28T13:15:37.616300",
     "exception": false,
     "start_time": "2025-01-28T13:15:37.551919",
     "status": "completed"
    },
    "tags": []
   },
   "outputs": [],
   "source": [
    "df_train = pd.read_csv('/kaggle/input/house-prices-advanced-regression-techniques/train.csv')"
   ]
  },
  {
   "cell_type": "code",
   "execution_count": 3,
   "id": "59072fb2",
   "metadata": {
    "execution": {
     "iopub.execute_input": "2025-01-28T13:15:37.638984Z",
     "iopub.status.busy": "2025-01-28T13:15:37.638450Z",
     "iopub.status.idle": "2025-01-28T13:15:37.674140Z",
     "shell.execute_reply": "2025-01-28T13:15:37.672779Z"
    },
    "papermill": {
     "duration": 0.049249,
     "end_time": "2025-01-28T13:15:37.676275",
     "exception": false,
     "start_time": "2025-01-28T13:15:37.627026",
     "status": "completed"
    },
    "tags": []
   },
   "outputs": [],
   "source": [
    "df_test = pd.read_csv('/kaggle/input/house-prices-advanced-regression-techniques/test.csv')"
   ]
  },
  {
   "cell_type": "code",
   "execution_count": 4,
   "id": "73ce157a",
   "metadata": {
    "execution": {
     "iopub.execute_input": "2025-01-28T13:15:37.699022Z",
     "iopub.status.busy": "2025-01-28T13:15:37.698520Z",
     "iopub.status.idle": "2025-01-28T13:15:37.750541Z",
     "shell.execute_reply": "2025-01-28T13:15:37.749353Z"
    },
    "papermill": {
     "duration": 0.065184,
     "end_time": "2025-01-28T13:15:37.752255",
     "exception": false,
     "start_time": "2025-01-28T13:15:37.687071",
     "status": "completed"
    },
    "tags": []
   },
   "outputs": [
    {
     "name": "stderr",
     "output_type": "stream",
     "text": [
      "/usr/local/lib/python3.10/dist-packages/pandas/io/formats/format.py:1458: RuntimeWarning: invalid value encountered in greater\n",
      "  has_large_values = (abs_vals > 1e6).any()\n",
      "/usr/local/lib/python3.10/dist-packages/pandas/io/formats/format.py:1459: RuntimeWarning: invalid value encountered in less\n",
      "  has_small_values = ((abs_vals < 10 ** (-self.digits)) & (abs_vals > 0)).any()\n",
      "/usr/local/lib/python3.10/dist-packages/pandas/io/formats/format.py:1459: RuntimeWarning: invalid value encountered in greater\n",
      "  has_small_values = ((abs_vals < 10 ** (-self.digits)) & (abs_vals > 0)).any()\n",
      "/usr/local/lib/python3.10/dist-packages/pandas/io/formats/format.py:1458: RuntimeWarning: invalid value encountered in greater\n",
      "  has_large_values = (abs_vals > 1e6).any()\n",
      "/usr/local/lib/python3.10/dist-packages/pandas/io/formats/format.py:1459: RuntimeWarning: invalid value encountered in less\n",
      "  has_small_values = ((abs_vals < 10 ** (-self.digits)) & (abs_vals > 0)).any()\n",
      "/usr/local/lib/python3.10/dist-packages/pandas/io/formats/format.py:1459: RuntimeWarning: invalid value encountered in greater\n",
      "  has_small_values = ((abs_vals < 10 ** (-self.digits)) & (abs_vals > 0)).any()\n"
     ]
    },
    {
     "data": {
      "text/html": [
       "<div>\n",
       "<style scoped>\n",
       "    .dataframe tbody tr th:only-of-type {\n",
       "        vertical-align: middle;\n",
       "    }\n",
       "\n",
       "    .dataframe tbody tr th {\n",
       "        vertical-align: top;\n",
       "    }\n",
       "\n",
       "    .dataframe thead th {\n",
       "        text-align: right;\n",
       "    }\n",
       "</style>\n",
       "<table border=\"1\" class=\"dataframe\">\n",
       "  <thead>\n",
       "    <tr style=\"text-align: right;\">\n",
       "      <th></th>\n",
       "      <th>Id</th>\n",
       "      <th>MSSubClass</th>\n",
       "      <th>MSZoning</th>\n",
       "      <th>LotFrontage</th>\n",
       "      <th>LotArea</th>\n",
       "      <th>Street</th>\n",
       "      <th>Alley</th>\n",
       "      <th>LotShape</th>\n",
       "      <th>LandContour</th>\n",
       "      <th>Utilities</th>\n",
       "      <th>...</th>\n",
       "      <th>PoolArea</th>\n",
       "      <th>PoolQC</th>\n",
       "      <th>Fence</th>\n",
       "      <th>MiscFeature</th>\n",
       "      <th>MiscVal</th>\n",
       "      <th>MoSold</th>\n",
       "      <th>YrSold</th>\n",
       "      <th>SaleType</th>\n",
       "      <th>SaleCondition</th>\n",
       "      <th>SalePrice</th>\n",
       "    </tr>\n",
       "  </thead>\n",
       "  <tbody>\n",
       "    <tr>\n",
       "      <th>0</th>\n",
       "      <td>1</td>\n",
       "      <td>60</td>\n",
       "      <td>RL</td>\n",
       "      <td>65.0</td>\n",
       "      <td>8450</td>\n",
       "      <td>Pave</td>\n",
       "      <td>NaN</td>\n",
       "      <td>Reg</td>\n",
       "      <td>Lvl</td>\n",
       "      <td>AllPub</td>\n",
       "      <td>...</td>\n",
       "      <td>0</td>\n",
       "      <td>NaN</td>\n",
       "      <td>NaN</td>\n",
       "      <td>NaN</td>\n",
       "      <td>0</td>\n",
       "      <td>2</td>\n",
       "      <td>2008</td>\n",
       "      <td>WD</td>\n",
       "      <td>Normal</td>\n",
       "      <td>208500</td>\n",
       "    </tr>\n",
       "    <tr>\n",
       "      <th>1</th>\n",
       "      <td>2</td>\n",
       "      <td>20</td>\n",
       "      <td>RL</td>\n",
       "      <td>80.0</td>\n",
       "      <td>9600</td>\n",
       "      <td>Pave</td>\n",
       "      <td>NaN</td>\n",
       "      <td>Reg</td>\n",
       "      <td>Lvl</td>\n",
       "      <td>AllPub</td>\n",
       "      <td>...</td>\n",
       "      <td>0</td>\n",
       "      <td>NaN</td>\n",
       "      <td>NaN</td>\n",
       "      <td>NaN</td>\n",
       "      <td>0</td>\n",
       "      <td>5</td>\n",
       "      <td>2007</td>\n",
       "      <td>WD</td>\n",
       "      <td>Normal</td>\n",
       "      <td>181500</td>\n",
       "    </tr>\n",
       "    <tr>\n",
       "      <th>2</th>\n",
       "      <td>3</td>\n",
       "      <td>60</td>\n",
       "      <td>RL</td>\n",
       "      <td>68.0</td>\n",
       "      <td>11250</td>\n",
       "      <td>Pave</td>\n",
       "      <td>NaN</td>\n",
       "      <td>IR1</td>\n",
       "      <td>Lvl</td>\n",
       "      <td>AllPub</td>\n",
       "      <td>...</td>\n",
       "      <td>0</td>\n",
       "      <td>NaN</td>\n",
       "      <td>NaN</td>\n",
       "      <td>NaN</td>\n",
       "      <td>0</td>\n",
       "      <td>9</td>\n",
       "      <td>2008</td>\n",
       "      <td>WD</td>\n",
       "      <td>Normal</td>\n",
       "      <td>223500</td>\n",
       "    </tr>\n",
       "    <tr>\n",
       "      <th>3</th>\n",
       "      <td>4</td>\n",
       "      <td>70</td>\n",
       "      <td>RL</td>\n",
       "      <td>60.0</td>\n",
       "      <td>9550</td>\n",
       "      <td>Pave</td>\n",
       "      <td>NaN</td>\n",
       "      <td>IR1</td>\n",
       "      <td>Lvl</td>\n",
       "      <td>AllPub</td>\n",
       "      <td>...</td>\n",
       "      <td>0</td>\n",
       "      <td>NaN</td>\n",
       "      <td>NaN</td>\n",
       "      <td>NaN</td>\n",
       "      <td>0</td>\n",
       "      <td>2</td>\n",
       "      <td>2006</td>\n",
       "      <td>WD</td>\n",
       "      <td>Abnorml</td>\n",
       "      <td>140000</td>\n",
       "    </tr>\n",
       "    <tr>\n",
       "      <th>4</th>\n",
       "      <td>5</td>\n",
       "      <td>60</td>\n",
       "      <td>RL</td>\n",
       "      <td>84.0</td>\n",
       "      <td>14260</td>\n",
       "      <td>Pave</td>\n",
       "      <td>NaN</td>\n",
       "      <td>IR1</td>\n",
       "      <td>Lvl</td>\n",
       "      <td>AllPub</td>\n",
       "      <td>...</td>\n",
       "      <td>0</td>\n",
       "      <td>NaN</td>\n",
       "      <td>NaN</td>\n",
       "      <td>NaN</td>\n",
       "      <td>0</td>\n",
       "      <td>12</td>\n",
       "      <td>2008</td>\n",
       "      <td>WD</td>\n",
       "      <td>Normal</td>\n",
       "      <td>250000</td>\n",
       "    </tr>\n",
       "    <tr>\n",
       "      <th>5</th>\n",
       "      <td>6</td>\n",
       "      <td>50</td>\n",
       "      <td>RL</td>\n",
       "      <td>85.0</td>\n",
       "      <td>14115</td>\n",
       "      <td>Pave</td>\n",
       "      <td>NaN</td>\n",
       "      <td>IR1</td>\n",
       "      <td>Lvl</td>\n",
       "      <td>AllPub</td>\n",
       "      <td>...</td>\n",
       "      <td>0</td>\n",
       "      <td>NaN</td>\n",
       "      <td>MnPrv</td>\n",
       "      <td>Shed</td>\n",
       "      <td>700</td>\n",
       "      <td>10</td>\n",
       "      <td>2009</td>\n",
       "      <td>WD</td>\n",
       "      <td>Normal</td>\n",
       "      <td>143000</td>\n",
       "    </tr>\n",
       "    <tr>\n",
       "      <th>6</th>\n",
       "      <td>7</td>\n",
       "      <td>20</td>\n",
       "      <td>RL</td>\n",
       "      <td>75.0</td>\n",
       "      <td>10084</td>\n",
       "      <td>Pave</td>\n",
       "      <td>NaN</td>\n",
       "      <td>Reg</td>\n",
       "      <td>Lvl</td>\n",
       "      <td>AllPub</td>\n",
       "      <td>...</td>\n",
       "      <td>0</td>\n",
       "      <td>NaN</td>\n",
       "      <td>NaN</td>\n",
       "      <td>NaN</td>\n",
       "      <td>0</td>\n",
       "      <td>8</td>\n",
       "      <td>2007</td>\n",
       "      <td>WD</td>\n",
       "      <td>Normal</td>\n",
       "      <td>307000</td>\n",
       "    </tr>\n",
       "    <tr>\n",
       "      <th>7</th>\n",
       "      <td>8</td>\n",
       "      <td>60</td>\n",
       "      <td>RL</td>\n",
       "      <td>NaN</td>\n",
       "      <td>10382</td>\n",
       "      <td>Pave</td>\n",
       "      <td>NaN</td>\n",
       "      <td>IR1</td>\n",
       "      <td>Lvl</td>\n",
       "      <td>AllPub</td>\n",
       "      <td>...</td>\n",
       "      <td>0</td>\n",
       "      <td>NaN</td>\n",
       "      <td>NaN</td>\n",
       "      <td>Shed</td>\n",
       "      <td>350</td>\n",
       "      <td>11</td>\n",
       "      <td>2009</td>\n",
       "      <td>WD</td>\n",
       "      <td>Normal</td>\n",
       "      <td>200000</td>\n",
       "    </tr>\n",
       "    <tr>\n",
       "      <th>8</th>\n",
       "      <td>9</td>\n",
       "      <td>50</td>\n",
       "      <td>RM</td>\n",
       "      <td>51.0</td>\n",
       "      <td>6120</td>\n",
       "      <td>Pave</td>\n",
       "      <td>NaN</td>\n",
       "      <td>Reg</td>\n",
       "      <td>Lvl</td>\n",
       "      <td>AllPub</td>\n",
       "      <td>...</td>\n",
       "      <td>0</td>\n",
       "      <td>NaN</td>\n",
       "      <td>NaN</td>\n",
       "      <td>NaN</td>\n",
       "      <td>0</td>\n",
       "      <td>4</td>\n",
       "      <td>2008</td>\n",
       "      <td>WD</td>\n",
       "      <td>Abnorml</td>\n",
       "      <td>129900</td>\n",
       "    </tr>\n",
       "    <tr>\n",
       "      <th>9</th>\n",
       "      <td>10</td>\n",
       "      <td>190</td>\n",
       "      <td>RL</td>\n",
       "      <td>50.0</td>\n",
       "      <td>7420</td>\n",
       "      <td>Pave</td>\n",
       "      <td>NaN</td>\n",
       "      <td>Reg</td>\n",
       "      <td>Lvl</td>\n",
       "      <td>AllPub</td>\n",
       "      <td>...</td>\n",
       "      <td>0</td>\n",
       "      <td>NaN</td>\n",
       "      <td>NaN</td>\n",
       "      <td>NaN</td>\n",
       "      <td>0</td>\n",
       "      <td>1</td>\n",
       "      <td>2008</td>\n",
       "      <td>WD</td>\n",
       "      <td>Normal</td>\n",
       "      <td>118000</td>\n",
       "    </tr>\n",
       "  </tbody>\n",
       "</table>\n",
       "<p>10 rows × 81 columns</p>\n",
       "</div>"
      ],
      "text/plain": [
       "   Id  MSSubClass MSZoning  LotFrontage  LotArea Street Alley LotShape  \\\n",
       "0   1          60       RL         65.0     8450   Pave   NaN      Reg   \n",
       "1   2          20       RL         80.0     9600   Pave   NaN      Reg   \n",
       "2   3          60       RL         68.0    11250   Pave   NaN      IR1   \n",
       "3   4          70       RL         60.0     9550   Pave   NaN      IR1   \n",
       "4   5          60       RL         84.0    14260   Pave   NaN      IR1   \n",
       "5   6          50       RL         85.0    14115   Pave   NaN      IR1   \n",
       "6   7          20       RL         75.0    10084   Pave   NaN      Reg   \n",
       "7   8          60       RL          NaN    10382   Pave   NaN      IR1   \n",
       "8   9          50       RM         51.0     6120   Pave   NaN      Reg   \n",
       "9  10         190       RL         50.0     7420   Pave   NaN      Reg   \n",
       "\n",
       "  LandContour Utilities  ... PoolArea PoolQC  Fence MiscFeature MiscVal  \\\n",
       "0         Lvl    AllPub  ...        0    NaN    NaN         NaN       0   \n",
       "1         Lvl    AllPub  ...        0    NaN    NaN         NaN       0   \n",
       "2         Lvl    AllPub  ...        0    NaN    NaN         NaN       0   \n",
       "3         Lvl    AllPub  ...        0    NaN    NaN         NaN       0   \n",
       "4         Lvl    AllPub  ...        0    NaN    NaN         NaN       0   \n",
       "5         Lvl    AllPub  ...        0    NaN  MnPrv        Shed     700   \n",
       "6         Lvl    AllPub  ...        0    NaN    NaN         NaN       0   \n",
       "7         Lvl    AllPub  ...        0    NaN    NaN        Shed     350   \n",
       "8         Lvl    AllPub  ...        0    NaN    NaN         NaN       0   \n",
       "9         Lvl    AllPub  ...        0    NaN    NaN         NaN       0   \n",
       "\n",
       "  MoSold YrSold  SaleType  SaleCondition  SalePrice  \n",
       "0      2   2008        WD         Normal     208500  \n",
       "1      5   2007        WD         Normal     181500  \n",
       "2      9   2008        WD         Normal     223500  \n",
       "3      2   2006        WD        Abnorml     140000  \n",
       "4     12   2008        WD         Normal     250000  \n",
       "5     10   2009        WD         Normal     143000  \n",
       "6      8   2007        WD         Normal     307000  \n",
       "7     11   2009        WD         Normal     200000  \n",
       "8      4   2008        WD        Abnorml     129900  \n",
       "9      1   2008        WD         Normal     118000  \n",
       "\n",
       "[10 rows x 81 columns]"
      ]
     },
     "execution_count": 4,
     "metadata": {},
     "output_type": "execute_result"
    }
   ],
   "source": [
    "df_train.head(10)"
   ]
  },
  {
   "cell_type": "code",
   "execution_count": 5,
   "id": "90bce162",
   "metadata": {
    "execution": {
     "iopub.execute_input": "2025-01-28T13:15:37.775488Z",
     "iopub.status.busy": "2025-01-28T13:15:37.775134Z",
     "iopub.status.idle": "2025-01-28T13:15:37.782003Z",
     "shell.execute_reply": "2025-01-28T13:15:37.780968Z"
    },
    "papermill": {
     "duration": 0.020829,
     "end_time": "2025-01-28T13:15:37.784059",
     "exception": false,
     "start_time": "2025-01-28T13:15:37.763230",
     "status": "completed"
    },
    "tags": []
   },
   "outputs": [],
   "source": [
    "df_train.drop(['Alley','MasVnrType','FireplaceQu','PoolQC','Fence','MiscFeature'],axis=1,inplace=True)"
   ]
  },
  {
   "cell_type": "code",
   "execution_count": 6,
   "id": "ab24e871",
   "metadata": {
    "execution": {
     "iopub.execute_input": "2025-01-28T13:15:37.807455Z",
     "iopub.status.busy": "2025-01-28T13:15:37.807004Z",
     "iopub.status.idle": "2025-01-28T13:15:37.814123Z",
     "shell.execute_reply": "2025-01-28T13:15:37.812734Z"
    },
    "papermill": {
     "duration": 0.021481,
     "end_time": "2025-01-28T13:15:37.816219",
     "exception": false,
     "start_time": "2025-01-28T13:15:37.794738",
     "status": "completed"
    },
    "tags": []
   },
   "outputs": [
    {
     "data": {
      "text/plain": [
       "(1460, 75)"
      ]
     },
     "execution_count": 6,
     "metadata": {},
     "output_type": "execute_result"
    }
   ],
   "source": [
    "df_train.shape"
   ]
  },
  {
   "cell_type": "code",
   "execution_count": 7,
   "id": "160f40cc",
   "metadata": {
    "execution": {
     "iopub.execute_input": "2025-01-28T13:15:37.841754Z",
     "iopub.status.busy": "2025-01-28T13:15:37.841300Z",
     "iopub.status.idle": "2025-01-28T13:15:37.848863Z",
     "shell.execute_reply": "2025-01-28T13:15:37.847674Z"
    },
    "papermill": {
     "duration": 0.023868,
     "end_time": "2025-01-28T13:15:37.850905",
     "exception": false,
     "start_time": "2025-01-28T13:15:37.827037",
     "status": "completed"
    },
    "tags": []
   },
   "outputs": [],
   "source": [
    "df_test.drop(['Alley','MasVnrType','FireplaceQu','PoolQC','Fence','MiscFeature'],axis=1,inplace=True)"
   ]
  },
  {
   "cell_type": "code",
   "execution_count": 8,
   "id": "2299848b",
   "metadata": {
    "execution": {
     "iopub.execute_input": "2025-01-28T13:15:37.875516Z",
     "iopub.status.busy": "2025-01-28T13:15:37.875143Z",
     "iopub.status.idle": "2025-01-28T13:15:37.881857Z",
     "shell.execute_reply": "2025-01-28T13:15:37.880676Z"
    },
    "papermill": {
     "duration": 0.022025,
     "end_time": "2025-01-28T13:15:37.884002",
     "exception": false,
     "start_time": "2025-01-28T13:15:37.861977",
     "status": "completed"
    },
    "tags": []
   },
   "outputs": [
    {
     "data": {
      "text/plain": [
       "(1459, 74)"
      ]
     },
     "execution_count": 8,
     "metadata": {},
     "output_type": "execute_result"
    }
   ],
   "source": [
    "df_test.shape"
   ]
  },
  {
   "cell_type": "code",
   "execution_count": 9,
   "id": "ebab1790",
   "metadata": {
    "execution": {
     "iopub.execute_input": "2025-01-28T13:15:37.909167Z",
     "iopub.status.busy": "2025-01-28T13:15:37.908767Z",
     "iopub.status.idle": "2025-01-28T13:15:37.916503Z",
     "shell.execute_reply": "2025-01-28T13:15:37.915008Z"
    },
    "papermill": {
     "duration": 0.022431,
     "end_time": "2025-01-28T13:15:37.918499",
     "exception": false,
     "start_time": "2025-01-28T13:15:37.896068",
     "status": "completed"
    },
    "tags": []
   },
   "outputs": [],
   "source": [
    "categorical = [cat for cat in df_train.columns if df_train[cat].dtype=='O']"
   ]
  },
  {
   "cell_type": "code",
   "execution_count": 10,
   "id": "327e2491",
   "metadata": {
    "execution": {
     "iopub.execute_input": "2025-01-28T13:15:37.941984Z",
     "iopub.status.busy": "2025-01-28T13:15:37.941567Z",
     "iopub.status.idle": "2025-01-28T13:15:37.995030Z",
     "shell.execute_reply": "2025-01-28T13:15:37.993868Z"
    },
    "papermill": {
     "duration": 0.067639,
     "end_time": "2025-01-28T13:15:37.997242",
     "exception": false,
     "start_time": "2025-01-28T13:15:37.929603",
     "status": "completed"
    },
    "tags": []
   },
   "outputs": [
    {
     "name": "stderr",
     "output_type": "stream",
     "text": [
      "<ipython-input-10-f63772156e43>:2: FutureWarning: A value is trying to be set on a copy of a DataFrame or Series through chained assignment using an inplace method.\n",
      "The behavior will change in pandas 3.0. This inplace method will never work because the intermediate object on which we are setting values always behaves as a copy.\n",
      "\n",
      "For example, when doing 'df[col].method(value, inplace=True)', try using 'df.method({col: value}, inplace=True)' or df[col] = df[col].method(value) instead, to perform the operation inplace on the original object.\n",
      "\n",
      "\n",
      "  df_train[cat].fillna(df_train[cat].mode()[0],inplace=True)\n",
      "<ipython-input-10-f63772156e43>:3: FutureWarning: A value is trying to be set on a copy of a DataFrame or Series through chained assignment using an inplace method.\n",
      "The behavior will change in pandas 3.0. This inplace method will never work because the intermediate object on which we are setting values always behaves as a copy.\n",
      "\n",
      "For example, when doing 'df[col].method(value, inplace=True)', try using 'df.method({col: value}, inplace=True)' or df[col] = df[col].method(value) instead, to perform the operation inplace on the original object.\n",
      "\n",
      "\n",
      "  df_test[cat].fillna(df_test[cat].mode()[0],inplace=True)\n"
     ]
    }
   ],
   "source": [
    "for cat in categorical:\n",
    "    df_train[cat].fillna(df_train[cat].mode()[0],inplace=True)\n",
    "    df_test[cat].fillna(df_test[cat].mode()[0],inplace=True)"
   ]
  },
  {
   "cell_type": "code",
   "execution_count": 11,
   "id": "87ebf46f",
   "metadata": {
    "execution": {
     "iopub.execute_input": "2025-01-28T13:15:38.022511Z",
     "iopub.status.busy": "2025-01-28T13:15:38.022147Z",
     "iopub.status.idle": "2025-01-28T13:15:38.028570Z",
     "shell.execute_reply": "2025-01-28T13:15:38.027308Z"
    },
    "papermill": {
     "duration": 0.021419,
     "end_time": "2025-01-28T13:15:38.030855",
     "exception": false,
     "start_time": "2025-01-28T13:15:38.009436",
     "status": "completed"
    },
    "tags": []
   },
   "outputs": [
    {
     "data": {
      "text/plain": [
       "(1460, 75)"
      ]
     },
     "execution_count": 11,
     "metadata": {},
     "output_type": "execute_result"
    }
   ],
   "source": [
    "df_train.shape"
   ]
  },
  {
   "cell_type": "code",
   "execution_count": 12,
   "id": "fb34b753",
   "metadata": {
    "execution": {
     "iopub.execute_input": "2025-01-28T13:15:38.056086Z",
     "iopub.status.busy": "2025-01-28T13:15:38.055598Z",
     "iopub.status.idle": "2025-01-28T13:15:38.063132Z",
     "shell.execute_reply": "2025-01-28T13:15:38.061898Z"
    },
    "papermill": {
     "duration": 0.022646,
     "end_time": "2025-01-28T13:15:38.064928",
     "exception": false,
     "start_time": "2025-01-28T13:15:38.042282",
     "status": "completed"
    },
    "tags": []
   },
   "outputs": [
    {
     "data": {
      "text/plain": [
       "(1459, 74)"
      ]
     },
     "execution_count": 12,
     "metadata": {},
     "output_type": "execute_result"
    }
   ],
   "source": [
    "df_test.shape"
   ]
  },
  {
   "cell_type": "code",
   "execution_count": 13,
   "id": "3d511b27",
   "metadata": {
    "execution": {
     "iopub.execute_input": "2025-01-28T13:15:38.089019Z",
     "iopub.status.busy": "2025-01-28T13:15:38.088551Z",
     "iopub.status.idle": "2025-01-28T13:15:38.113901Z",
     "shell.execute_reply": "2025-01-28T13:15:38.112577Z"
    },
    "papermill": {
     "duration": 0.039594,
     "end_time": "2025-01-28T13:15:38.115928",
     "exception": false,
     "start_time": "2025-01-28T13:15:38.076334",
     "status": "completed"
    },
    "tags": []
   },
   "outputs": [
    {
     "data": {
      "text/html": [
       "<div>\n",
       "<style scoped>\n",
       "    .dataframe tbody tr th:only-of-type {\n",
       "        vertical-align: middle;\n",
       "    }\n",
       "\n",
       "    .dataframe tbody tr th {\n",
       "        vertical-align: top;\n",
       "    }\n",
       "\n",
       "    .dataframe thead th {\n",
       "        text-align: right;\n",
       "    }\n",
       "</style>\n",
       "<table border=\"1\" class=\"dataframe\">\n",
       "  <thead>\n",
       "    <tr style=\"text-align: right;\">\n",
       "      <th></th>\n",
       "      <th>Id</th>\n",
       "      <th>MSSubClass</th>\n",
       "      <th>MSZoning</th>\n",
       "      <th>LotFrontage</th>\n",
       "      <th>LotArea</th>\n",
       "      <th>Street</th>\n",
       "      <th>LotShape</th>\n",
       "      <th>LandContour</th>\n",
       "      <th>Utilities</th>\n",
       "      <th>LotConfig</th>\n",
       "      <th>...</th>\n",
       "      <th>EnclosedPorch</th>\n",
       "      <th>3SsnPorch</th>\n",
       "      <th>ScreenPorch</th>\n",
       "      <th>PoolArea</th>\n",
       "      <th>MiscVal</th>\n",
       "      <th>MoSold</th>\n",
       "      <th>YrSold</th>\n",
       "      <th>SaleType</th>\n",
       "      <th>SaleCondition</th>\n",
       "      <th>SalePrice</th>\n",
       "    </tr>\n",
       "  </thead>\n",
       "  <tbody>\n",
       "    <tr>\n",
       "      <th>0</th>\n",
       "      <td>1</td>\n",
       "      <td>60</td>\n",
       "      <td>RL</td>\n",
       "      <td>65.0</td>\n",
       "      <td>8450</td>\n",
       "      <td>Pave</td>\n",
       "      <td>Reg</td>\n",
       "      <td>Lvl</td>\n",
       "      <td>AllPub</td>\n",
       "      <td>Inside</td>\n",
       "      <td>...</td>\n",
       "      <td>0</td>\n",
       "      <td>0</td>\n",
       "      <td>0</td>\n",
       "      <td>0</td>\n",
       "      <td>0</td>\n",
       "      <td>2</td>\n",
       "      <td>2008</td>\n",
       "      <td>WD</td>\n",
       "      <td>Normal</td>\n",
       "      <td>208500</td>\n",
       "    </tr>\n",
       "    <tr>\n",
       "      <th>1</th>\n",
       "      <td>2</td>\n",
       "      <td>20</td>\n",
       "      <td>RL</td>\n",
       "      <td>80.0</td>\n",
       "      <td>9600</td>\n",
       "      <td>Pave</td>\n",
       "      <td>Reg</td>\n",
       "      <td>Lvl</td>\n",
       "      <td>AllPub</td>\n",
       "      <td>FR2</td>\n",
       "      <td>...</td>\n",
       "      <td>0</td>\n",
       "      <td>0</td>\n",
       "      <td>0</td>\n",
       "      <td>0</td>\n",
       "      <td>0</td>\n",
       "      <td>5</td>\n",
       "      <td>2007</td>\n",
       "      <td>WD</td>\n",
       "      <td>Normal</td>\n",
       "      <td>181500</td>\n",
       "    </tr>\n",
       "    <tr>\n",
       "      <th>2</th>\n",
       "      <td>3</td>\n",
       "      <td>60</td>\n",
       "      <td>RL</td>\n",
       "      <td>68.0</td>\n",
       "      <td>11250</td>\n",
       "      <td>Pave</td>\n",
       "      <td>IR1</td>\n",
       "      <td>Lvl</td>\n",
       "      <td>AllPub</td>\n",
       "      <td>Inside</td>\n",
       "      <td>...</td>\n",
       "      <td>0</td>\n",
       "      <td>0</td>\n",
       "      <td>0</td>\n",
       "      <td>0</td>\n",
       "      <td>0</td>\n",
       "      <td>9</td>\n",
       "      <td>2008</td>\n",
       "      <td>WD</td>\n",
       "      <td>Normal</td>\n",
       "      <td>223500</td>\n",
       "    </tr>\n",
       "    <tr>\n",
       "      <th>3</th>\n",
       "      <td>4</td>\n",
       "      <td>70</td>\n",
       "      <td>RL</td>\n",
       "      <td>60.0</td>\n",
       "      <td>9550</td>\n",
       "      <td>Pave</td>\n",
       "      <td>IR1</td>\n",
       "      <td>Lvl</td>\n",
       "      <td>AllPub</td>\n",
       "      <td>Corner</td>\n",
       "      <td>...</td>\n",
       "      <td>272</td>\n",
       "      <td>0</td>\n",
       "      <td>0</td>\n",
       "      <td>0</td>\n",
       "      <td>0</td>\n",
       "      <td>2</td>\n",
       "      <td>2006</td>\n",
       "      <td>WD</td>\n",
       "      <td>Abnorml</td>\n",
       "      <td>140000</td>\n",
       "    </tr>\n",
       "    <tr>\n",
       "      <th>4</th>\n",
       "      <td>5</td>\n",
       "      <td>60</td>\n",
       "      <td>RL</td>\n",
       "      <td>84.0</td>\n",
       "      <td>14260</td>\n",
       "      <td>Pave</td>\n",
       "      <td>IR1</td>\n",
       "      <td>Lvl</td>\n",
       "      <td>AllPub</td>\n",
       "      <td>FR2</td>\n",
       "      <td>...</td>\n",
       "      <td>0</td>\n",
       "      <td>0</td>\n",
       "      <td>0</td>\n",
       "      <td>0</td>\n",
       "      <td>0</td>\n",
       "      <td>12</td>\n",
       "      <td>2008</td>\n",
       "      <td>WD</td>\n",
       "      <td>Normal</td>\n",
       "      <td>250000</td>\n",
       "    </tr>\n",
       "  </tbody>\n",
       "</table>\n",
       "<p>5 rows × 75 columns</p>\n",
       "</div>"
      ],
      "text/plain": [
       "   Id  MSSubClass MSZoning  LotFrontage  LotArea Street LotShape LandContour  \\\n",
       "0   1          60       RL         65.0     8450   Pave      Reg         Lvl   \n",
       "1   2          20       RL         80.0     9600   Pave      Reg         Lvl   \n",
       "2   3          60       RL         68.0    11250   Pave      IR1         Lvl   \n",
       "3   4          70       RL         60.0     9550   Pave      IR1         Lvl   \n",
       "4   5          60       RL         84.0    14260   Pave      IR1         Lvl   \n",
       "\n",
       "  Utilities LotConfig  ... EnclosedPorch 3SsnPorch ScreenPorch PoolArea  \\\n",
       "0    AllPub    Inside  ...             0         0           0        0   \n",
       "1    AllPub       FR2  ...             0         0           0        0   \n",
       "2    AllPub    Inside  ...             0         0           0        0   \n",
       "3    AllPub    Corner  ...           272         0           0        0   \n",
       "4    AllPub       FR2  ...             0         0           0        0   \n",
       "\n",
       "  MiscVal MoSold  YrSold  SaleType  SaleCondition  SalePrice  \n",
       "0       0      2    2008        WD         Normal     208500  \n",
       "1       0      5    2007        WD         Normal     181500  \n",
       "2       0      9    2008        WD         Normal     223500  \n",
       "3       0      2    2006        WD        Abnorml     140000  \n",
       "4       0     12    2008        WD         Normal     250000  \n",
       "\n",
       "[5 rows x 75 columns]"
      ]
     },
     "execution_count": 13,
     "metadata": {},
     "output_type": "execute_result"
    }
   ],
   "source": [
    "df_train.head()"
   ]
  },
  {
   "cell_type": "code",
   "execution_count": 14,
   "id": "c64bc42d",
   "metadata": {
    "execution": {
     "iopub.execute_input": "2025-01-28T13:15:38.141608Z",
     "iopub.status.busy": "2025-01-28T13:15:38.141173Z",
     "iopub.status.idle": "2025-01-28T13:15:38.147276Z",
     "shell.execute_reply": "2025-01-28T13:15:38.145594Z"
    },
    "papermill": {
     "duration": 0.021598,
     "end_time": "2025-01-28T13:15:38.149124",
     "exception": false,
     "start_time": "2025-01-28T13:15:38.127526",
     "status": "completed"
    },
    "tags": []
   },
   "outputs": [],
   "source": [
    "categorical = [cat for cat in df_train.columns if df_train[cat].dtype=='O']"
   ]
  },
  {
   "cell_type": "code",
   "execution_count": 15,
   "id": "df1e9b62",
   "metadata": {
    "execution": {
     "iopub.execute_input": "2025-01-28T13:15:38.174277Z",
     "iopub.status.busy": "2025-01-28T13:15:38.173798Z",
     "iopub.status.idle": "2025-01-28T13:15:38.180603Z",
     "shell.execute_reply": "2025-01-28T13:15:38.179439Z"
    },
    "papermill": {
     "duration": 0.021826,
     "end_time": "2025-01-28T13:15:38.182330",
     "exception": false,
     "start_time": "2025-01-28T13:15:38.160504",
     "status": "completed"
    },
    "tags": []
   },
   "outputs": [
    {
     "data": {
      "text/plain": [
       "['MSZoning',\n",
       " 'Street',\n",
       " 'LotShape',\n",
       " 'LandContour',\n",
       " 'Utilities',\n",
       " 'LotConfig',\n",
       " 'LandSlope',\n",
       " 'Neighborhood',\n",
       " 'Condition1',\n",
       " 'Condition2',\n",
       " 'BldgType',\n",
       " 'HouseStyle',\n",
       " 'RoofStyle',\n",
       " 'RoofMatl',\n",
       " 'Exterior1st',\n",
       " 'Exterior2nd',\n",
       " 'ExterQual',\n",
       " 'ExterCond',\n",
       " 'Foundation',\n",
       " 'BsmtQual',\n",
       " 'BsmtCond',\n",
       " 'BsmtExposure',\n",
       " 'BsmtFinType1',\n",
       " 'BsmtFinType2',\n",
       " 'Heating',\n",
       " 'HeatingQC',\n",
       " 'CentralAir',\n",
       " 'Electrical',\n",
       " 'KitchenQual',\n",
       " 'Functional',\n",
       " 'GarageType',\n",
       " 'GarageFinish',\n",
       " 'GarageQual',\n",
       " 'GarageCond',\n",
       " 'PavedDrive',\n",
       " 'SaleType',\n",
       " 'SaleCondition']"
      ]
     },
     "execution_count": 15,
     "metadata": {},
     "output_type": "execute_result"
    }
   ],
   "source": [
    "categorical"
   ]
  },
  {
   "cell_type": "code",
   "execution_count": 16,
   "id": "52bfba03",
   "metadata": {
    "execution": {
     "iopub.execute_input": "2025-01-28T13:15:38.207899Z",
     "iopub.status.busy": "2025-01-28T13:15:38.207425Z",
     "iopub.status.idle": "2025-01-28T13:15:38.214227Z",
     "shell.execute_reply": "2025-01-28T13:15:38.212655Z"
    },
    "papermill": {
     "duration": 0.021907,
     "end_time": "2025-01-28T13:15:38.216237",
     "exception": false,
     "start_time": "2025-01-28T13:15:38.194330",
     "status": "completed"
    },
    "tags": []
   },
   "outputs": [
    {
     "data": {
      "text/plain": [
       "37"
      ]
     },
     "execution_count": 16,
     "metadata": {},
     "output_type": "execute_result"
    }
   ],
   "source": [
    "len(categorical)"
   ]
  },
  {
   "cell_type": "code",
   "execution_count": 17,
   "id": "accd8662",
   "metadata": {
    "execution": {
     "iopub.execute_input": "2025-01-28T13:15:38.241985Z",
     "iopub.status.busy": "2025-01-28T13:15:38.241558Z",
     "iopub.status.idle": "2025-01-28T13:15:38.249333Z",
     "shell.execute_reply": "2025-01-28T13:15:38.248168Z"
    },
    "papermill": {
     "duration": 0.023427,
     "end_time": "2025-01-28T13:15:38.251591",
     "exception": false,
     "start_time": "2025-01-28T13:15:38.228164",
     "status": "completed"
    },
    "tags": []
   },
   "outputs": [],
   "source": [
    "X_train = df_train.drop(['SalePrice'],axis=1)\n",
    "y_train = df_train['SalePrice']"
   ]
  },
  {
   "cell_type": "code",
   "execution_count": null,
   "id": "31b1a322",
   "metadata": {
    "papermill": {
     "duration": 0.011721,
     "end_time": "2025-01-28T13:15:38.275665",
     "exception": false,
     "start_time": "2025-01-28T13:15:38.263944",
     "status": "completed"
    },
    "tags": []
   },
   "outputs": [],
   "source": []
  },
  {
   "cell_type": "code",
   "execution_count": 18,
   "id": "65ed3083",
   "metadata": {
    "execution": {
     "iopub.execute_input": "2025-01-28T13:15:38.301494Z",
     "iopub.status.busy": "2025-01-28T13:15:38.301097Z",
     "iopub.status.idle": "2025-01-28T13:15:38.323291Z",
     "shell.execute_reply": "2025-01-28T13:15:38.321871Z"
    },
    "papermill": {
     "duration": 0.037851,
     "end_time": "2025-01-28T13:15:38.325614",
     "exception": false,
     "start_time": "2025-01-28T13:15:38.287763",
     "status": "completed"
    },
    "tags": []
   },
   "outputs": [
    {
     "data": {
      "text/html": [
       "<div>\n",
       "<style scoped>\n",
       "    .dataframe tbody tr th:only-of-type {\n",
       "        vertical-align: middle;\n",
       "    }\n",
       "\n",
       "    .dataframe tbody tr th {\n",
       "        vertical-align: top;\n",
       "    }\n",
       "\n",
       "    .dataframe thead th {\n",
       "        text-align: right;\n",
       "    }\n",
       "</style>\n",
       "<table border=\"1\" class=\"dataframe\">\n",
       "  <thead>\n",
       "    <tr style=\"text-align: right;\">\n",
       "      <th></th>\n",
       "      <th>Id</th>\n",
       "      <th>MSSubClass</th>\n",
       "      <th>MSZoning</th>\n",
       "      <th>LotFrontage</th>\n",
       "      <th>LotArea</th>\n",
       "      <th>Street</th>\n",
       "      <th>LotShape</th>\n",
       "      <th>LandContour</th>\n",
       "      <th>Utilities</th>\n",
       "      <th>LotConfig</th>\n",
       "      <th>...</th>\n",
       "      <th>OpenPorchSF</th>\n",
       "      <th>EnclosedPorch</th>\n",
       "      <th>3SsnPorch</th>\n",
       "      <th>ScreenPorch</th>\n",
       "      <th>PoolArea</th>\n",
       "      <th>MiscVal</th>\n",
       "      <th>MoSold</th>\n",
       "      <th>YrSold</th>\n",
       "      <th>SaleType</th>\n",
       "      <th>SaleCondition</th>\n",
       "    </tr>\n",
       "  </thead>\n",
       "  <tbody>\n",
       "    <tr>\n",
       "      <th>0</th>\n",
       "      <td>1</td>\n",
       "      <td>60</td>\n",
       "      <td>RL</td>\n",
       "      <td>65.0</td>\n",
       "      <td>8450</td>\n",
       "      <td>Pave</td>\n",
       "      <td>Reg</td>\n",
       "      <td>Lvl</td>\n",
       "      <td>AllPub</td>\n",
       "      <td>Inside</td>\n",
       "      <td>...</td>\n",
       "      <td>61</td>\n",
       "      <td>0</td>\n",
       "      <td>0</td>\n",
       "      <td>0</td>\n",
       "      <td>0</td>\n",
       "      <td>0</td>\n",
       "      <td>2</td>\n",
       "      <td>2008</td>\n",
       "      <td>WD</td>\n",
       "      <td>Normal</td>\n",
       "    </tr>\n",
       "    <tr>\n",
       "      <th>1</th>\n",
       "      <td>2</td>\n",
       "      <td>20</td>\n",
       "      <td>RL</td>\n",
       "      <td>80.0</td>\n",
       "      <td>9600</td>\n",
       "      <td>Pave</td>\n",
       "      <td>Reg</td>\n",
       "      <td>Lvl</td>\n",
       "      <td>AllPub</td>\n",
       "      <td>FR2</td>\n",
       "      <td>...</td>\n",
       "      <td>0</td>\n",
       "      <td>0</td>\n",
       "      <td>0</td>\n",
       "      <td>0</td>\n",
       "      <td>0</td>\n",
       "      <td>0</td>\n",
       "      <td>5</td>\n",
       "      <td>2007</td>\n",
       "      <td>WD</td>\n",
       "      <td>Normal</td>\n",
       "    </tr>\n",
       "    <tr>\n",
       "      <th>2</th>\n",
       "      <td>3</td>\n",
       "      <td>60</td>\n",
       "      <td>RL</td>\n",
       "      <td>68.0</td>\n",
       "      <td>11250</td>\n",
       "      <td>Pave</td>\n",
       "      <td>IR1</td>\n",
       "      <td>Lvl</td>\n",
       "      <td>AllPub</td>\n",
       "      <td>Inside</td>\n",
       "      <td>...</td>\n",
       "      <td>42</td>\n",
       "      <td>0</td>\n",
       "      <td>0</td>\n",
       "      <td>0</td>\n",
       "      <td>0</td>\n",
       "      <td>0</td>\n",
       "      <td>9</td>\n",
       "      <td>2008</td>\n",
       "      <td>WD</td>\n",
       "      <td>Normal</td>\n",
       "    </tr>\n",
       "    <tr>\n",
       "      <th>3</th>\n",
       "      <td>4</td>\n",
       "      <td>70</td>\n",
       "      <td>RL</td>\n",
       "      <td>60.0</td>\n",
       "      <td>9550</td>\n",
       "      <td>Pave</td>\n",
       "      <td>IR1</td>\n",
       "      <td>Lvl</td>\n",
       "      <td>AllPub</td>\n",
       "      <td>Corner</td>\n",
       "      <td>...</td>\n",
       "      <td>35</td>\n",
       "      <td>272</td>\n",
       "      <td>0</td>\n",
       "      <td>0</td>\n",
       "      <td>0</td>\n",
       "      <td>0</td>\n",
       "      <td>2</td>\n",
       "      <td>2006</td>\n",
       "      <td>WD</td>\n",
       "      <td>Abnorml</td>\n",
       "    </tr>\n",
       "    <tr>\n",
       "      <th>4</th>\n",
       "      <td>5</td>\n",
       "      <td>60</td>\n",
       "      <td>RL</td>\n",
       "      <td>84.0</td>\n",
       "      <td>14260</td>\n",
       "      <td>Pave</td>\n",
       "      <td>IR1</td>\n",
       "      <td>Lvl</td>\n",
       "      <td>AllPub</td>\n",
       "      <td>FR2</td>\n",
       "      <td>...</td>\n",
       "      <td>84</td>\n",
       "      <td>0</td>\n",
       "      <td>0</td>\n",
       "      <td>0</td>\n",
       "      <td>0</td>\n",
       "      <td>0</td>\n",
       "      <td>12</td>\n",
       "      <td>2008</td>\n",
       "      <td>WD</td>\n",
       "      <td>Normal</td>\n",
       "    </tr>\n",
       "  </tbody>\n",
       "</table>\n",
       "<p>5 rows × 74 columns</p>\n",
       "</div>"
      ],
      "text/plain": [
       "   Id  MSSubClass MSZoning  LotFrontage  LotArea Street LotShape LandContour  \\\n",
       "0   1          60       RL         65.0     8450   Pave      Reg         Lvl   \n",
       "1   2          20       RL         80.0     9600   Pave      Reg         Lvl   \n",
       "2   3          60       RL         68.0    11250   Pave      IR1         Lvl   \n",
       "3   4          70       RL         60.0     9550   Pave      IR1         Lvl   \n",
       "4   5          60       RL         84.0    14260   Pave      IR1         Lvl   \n",
       "\n",
       "  Utilities LotConfig  ... OpenPorchSF EnclosedPorch 3SsnPorch ScreenPorch  \\\n",
       "0    AllPub    Inside  ...          61             0         0           0   \n",
       "1    AllPub       FR2  ...           0             0         0           0   \n",
       "2    AllPub    Inside  ...          42             0         0           0   \n",
       "3    AllPub    Corner  ...          35           272         0           0   \n",
       "4    AllPub       FR2  ...          84             0         0           0   \n",
       "\n",
       "  PoolArea MiscVal  MoSold  YrSold  SaleType  SaleCondition  \n",
       "0        0       0       2    2008        WD         Normal  \n",
       "1        0       0       5    2007        WD         Normal  \n",
       "2        0       0       9    2008        WD         Normal  \n",
       "3        0       0       2    2006        WD        Abnorml  \n",
       "4        0       0      12    2008        WD         Normal  \n",
       "\n",
       "[5 rows x 74 columns]"
      ]
     },
     "execution_count": 18,
     "metadata": {},
     "output_type": "execute_result"
    }
   ],
   "source": [
    "X_train.head()"
   ]
  },
  {
   "cell_type": "code",
   "execution_count": 19,
   "id": "4670c6b5",
   "metadata": {
    "execution": {
     "iopub.execute_input": "2025-01-28T13:15:38.353199Z",
     "iopub.status.busy": "2025-01-28T13:15:38.352717Z",
     "iopub.status.idle": "2025-01-28T13:15:38.359323Z",
     "shell.execute_reply": "2025-01-28T13:15:38.358213Z"
    },
    "papermill": {
     "duration": 0.022689,
     "end_time": "2025-01-28T13:15:38.361363",
     "exception": false,
     "start_time": "2025-01-28T13:15:38.338674",
     "status": "completed"
    },
    "tags": []
   },
   "outputs": [
    {
     "data": {
      "text/plain": [
       "(1460, 74)"
      ]
     },
     "execution_count": 19,
     "metadata": {},
     "output_type": "execute_result"
    }
   ],
   "source": [
    "X_train.shape"
   ]
  },
  {
   "cell_type": "code",
   "execution_count": 20,
   "id": "29f85c49",
   "metadata": {
    "execution": {
     "iopub.execute_input": "2025-01-28T13:15:38.386886Z",
     "iopub.status.busy": "2025-01-28T13:15:38.386515Z",
     "iopub.status.idle": "2025-01-28T13:15:38.391342Z",
     "shell.execute_reply": "2025-01-28T13:15:38.390045Z"
    },
    "papermill": {
     "duration": 0.019783,
     "end_time": "2025-01-28T13:15:38.393392",
     "exception": false,
     "start_time": "2025-01-28T13:15:38.373609",
     "status": "completed"
    },
    "tags": []
   },
   "outputs": [],
   "source": [
    "X_test=df_test"
   ]
  },
  {
   "cell_type": "code",
   "execution_count": 21,
   "id": "94012e03",
   "metadata": {
    "execution": {
     "iopub.execute_input": "2025-01-28T13:15:38.421087Z",
     "iopub.status.busy": "2025-01-28T13:15:38.420641Z",
     "iopub.status.idle": "2025-01-28T13:15:38.427238Z",
     "shell.execute_reply": "2025-01-28T13:15:38.426005Z"
    },
    "papermill": {
     "duration": 0.022933,
     "end_time": "2025-01-28T13:15:38.429208",
     "exception": false,
     "start_time": "2025-01-28T13:15:38.406275",
     "status": "completed"
    },
    "tags": []
   },
   "outputs": [
    {
     "data": {
      "text/plain": [
       "(1459, 74)"
      ]
     },
     "execution_count": 21,
     "metadata": {},
     "output_type": "execute_result"
    }
   ],
   "source": [
    "X_test.shape"
   ]
  },
  {
   "cell_type": "code",
   "execution_count": 22,
   "id": "76718dee",
   "metadata": {
    "execution": {
     "iopub.execute_input": "2025-01-28T13:15:38.458418Z",
     "iopub.status.busy": "2025-01-28T13:15:38.458055Z",
     "iopub.status.idle": "2025-01-28T13:15:38.484491Z",
     "shell.execute_reply": "2025-01-28T13:15:38.482955Z"
    },
    "papermill": {
     "duration": 0.043538,
     "end_time": "2025-01-28T13:15:38.486854",
     "exception": false,
     "start_time": "2025-01-28T13:15:38.443316",
     "status": "completed"
    },
    "tags": []
   },
   "outputs": [
    {
     "name": "stderr",
     "output_type": "stream",
     "text": [
      "<ipython-input-22-b85669ac2ee2>:3: FutureWarning: A value is trying to be set on a copy of a DataFrame or Series through chained assignment using an inplace method.\n",
      "The behavior will change in pandas 3.0. This inplace method will never work because the intermediate object on which we are setting values always behaves as a copy.\n",
      "\n",
      "For example, when doing 'df[col].method(value, inplace=True)', try using 'df.method({col: value}, inplace=True)' or df[col] = df[col].method(value) instead, to perform the operation inplace on the original object.\n",
      "\n",
      "\n",
      "  X_train[cat].fillna(X_train[cat].mean(), inplace=True)  # Fill missing values in X_train\n",
      "<ipython-input-22-b85669ac2ee2>:4: FutureWarning: A value is trying to be set on a copy of a DataFrame or Series through chained assignment using an inplace method.\n",
      "The behavior will change in pandas 3.0. This inplace method will never work because the intermediate object on which we are setting values always behaves as a copy.\n",
      "\n",
      "For example, when doing 'df[col].method(value, inplace=True)', try using 'df.method({col: value}, inplace=True)' or df[col] = df[col].method(value) instead, to perform the operation inplace on the original object.\n",
      "\n",
      "\n",
      "  X_test[cat].fillna(X_test[cat].mean(), inplace=True)    # Fill missing values in X_test\n"
     ]
    }
   ],
   "source": [
    "for cat in X_train.columns:\n",
    "    if X_train[cat].dtype != 'O':  # Check if the column is not categorical\n",
    "        X_train[cat].fillna(X_train[cat].mean(), inplace=True)  # Fill missing values in X_train\n",
    "        X_test[cat].fillna(X_test[cat].mean(), inplace=True)    # Fill missing values in X_test\n"
   ]
  },
  {
   "cell_type": "code",
   "execution_count": 23,
   "id": "be25d82d",
   "metadata": {
    "execution": {
     "iopub.execute_input": "2025-01-28T13:15:38.513977Z",
     "iopub.status.busy": "2025-01-28T13:15:38.513539Z",
     "iopub.status.idle": "2025-01-28T13:15:40.264106Z",
     "shell.execute_reply": "2025-01-28T13:15:40.262716Z"
    },
    "papermill": {
     "duration": 1.767123,
     "end_time": "2025-01-28T13:15:40.266611",
     "exception": false,
     "start_time": "2025-01-28T13:15:38.499488",
     "status": "completed"
    },
    "tags": []
   },
   "outputs": [],
   "source": [
    "from sklearn.preprocessing import LabelEncoder\n",
    "encoders = {}\n",
    "for col in categorical:\n",
    "    le = LabelEncoder()\n",
    "    # Fit and transform on X_train\n",
    "    X_train[col] = le.fit_transform(X_train[col])\n",
    "    # Transform X_test using the same encoder\n",
    "    X_test[col] = le.transform(X_test[col])\n",
    "    # Store the encoder for potential reverse transformation\n",
    "    encoders[col] = le"
   ]
  },
  {
   "cell_type": "code",
   "execution_count": null,
   "id": "fb738ce7",
   "metadata": {
    "papermill": {
     "duration": 0.01234,
     "end_time": "2025-01-28T13:15:40.292144",
     "exception": false,
     "start_time": "2025-01-28T13:15:40.279804",
     "status": "completed"
    },
    "tags": []
   },
   "outputs": [],
   "source": []
  },
  {
   "cell_type": "code",
   "execution_count": null,
   "id": "074ea020",
   "metadata": {
    "papermill": {
     "duration": 0.013944,
     "end_time": "2025-01-28T13:15:40.318612",
     "exception": false,
     "start_time": "2025-01-28T13:15:40.304668",
     "status": "completed"
    },
    "tags": []
   },
   "outputs": [],
   "source": []
  },
  {
   "cell_type": "code",
   "execution_count": 24,
   "id": "7b996cc0",
   "metadata": {
    "execution": {
     "iopub.execute_input": "2025-01-28T13:15:40.346470Z",
     "iopub.status.busy": "2025-01-28T13:15:40.345870Z",
     "iopub.status.idle": "2025-01-28T13:15:40.352436Z",
     "shell.execute_reply": "2025-01-28T13:15:40.351225Z"
    },
    "papermill": {
     "duration": 0.023269,
     "end_time": "2025-01-28T13:15:40.354615",
     "exception": false,
     "start_time": "2025-01-28T13:15:40.331346",
     "status": "completed"
    },
    "tags": []
   },
   "outputs": [
    {
     "data": {
      "text/plain": [
       "(1460, 74)"
      ]
     },
     "execution_count": 24,
     "metadata": {},
     "output_type": "execute_result"
    }
   ],
   "source": [
    "X_train.shape"
   ]
  },
  {
   "cell_type": "code",
   "execution_count": 25,
   "id": "557f80f8",
   "metadata": {
    "execution": {
     "iopub.execute_input": "2025-01-28T13:15:40.381743Z",
     "iopub.status.busy": "2025-01-28T13:15:40.381283Z",
     "iopub.status.idle": "2025-01-28T13:15:40.388209Z",
     "shell.execute_reply": "2025-01-28T13:15:40.386719Z"
    },
    "papermill": {
     "duration": 0.023195,
     "end_time": "2025-01-28T13:15:40.390731",
     "exception": false,
     "start_time": "2025-01-28T13:15:40.367536",
     "status": "completed"
    },
    "tags": []
   },
   "outputs": [
    {
     "data": {
      "text/plain": [
       "(1459, 74)"
      ]
     },
     "execution_count": 25,
     "metadata": {},
     "output_type": "execute_result"
    }
   ],
   "source": [
    "X_test.shape"
   ]
  },
  {
   "cell_type": "code",
   "execution_count": 26,
   "id": "79246837",
   "metadata": {
    "execution": {
     "iopub.execute_input": "2025-01-28T13:15:40.420567Z",
     "iopub.status.busy": "2025-01-28T13:15:40.420182Z",
     "iopub.status.idle": "2025-01-28T13:15:40.451864Z",
     "shell.execute_reply": "2025-01-28T13:15:40.450623Z"
    },
    "papermill": {
     "duration": 0.049348,
     "end_time": "2025-01-28T13:15:40.454275",
     "exception": false,
     "start_time": "2025-01-28T13:15:40.404927",
     "status": "completed"
    },
    "tags": []
   },
   "outputs": [],
   "source": [
    "corr = X_train.corr()"
   ]
  },
  {
   "cell_type": "code",
   "execution_count": 27,
   "id": "09c1f024",
   "metadata": {
    "execution": {
     "iopub.execute_input": "2025-01-28T13:15:40.481513Z",
     "iopub.status.busy": "2025-01-28T13:15:40.481145Z",
     "iopub.status.idle": "2025-01-28T13:15:40.508244Z",
     "shell.execute_reply": "2025-01-28T13:15:40.507089Z"
    },
    "papermill": {
     "duration": 0.043237,
     "end_time": "2025-01-28T13:15:40.510548",
     "exception": false,
     "start_time": "2025-01-28T13:15:40.467311",
     "status": "completed"
    },
    "tags": []
   },
   "outputs": [
    {
     "data": {
      "text/html": [
       "<div>\n",
       "<style scoped>\n",
       "    .dataframe tbody tr th:only-of-type {\n",
       "        vertical-align: middle;\n",
       "    }\n",
       "\n",
       "    .dataframe tbody tr th {\n",
       "        vertical-align: top;\n",
       "    }\n",
       "\n",
       "    .dataframe thead th {\n",
       "        text-align: right;\n",
       "    }\n",
       "</style>\n",
       "<table border=\"1\" class=\"dataframe\">\n",
       "  <thead>\n",
       "    <tr style=\"text-align: right;\">\n",
       "      <th></th>\n",
       "      <th>Id</th>\n",
       "      <th>MSSubClass</th>\n",
       "      <th>MSZoning</th>\n",
       "      <th>LotFrontage</th>\n",
       "      <th>LotArea</th>\n",
       "      <th>Street</th>\n",
       "      <th>LotShape</th>\n",
       "      <th>LandContour</th>\n",
       "      <th>Utilities</th>\n",
       "      <th>LotConfig</th>\n",
       "      <th>...</th>\n",
       "      <th>OpenPorchSF</th>\n",
       "      <th>EnclosedPorch</th>\n",
       "      <th>3SsnPorch</th>\n",
       "      <th>ScreenPorch</th>\n",
       "      <th>PoolArea</th>\n",
       "      <th>MiscVal</th>\n",
       "      <th>MoSold</th>\n",
       "      <th>YrSold</th>\n",
       "      <th>SaleType</th>\n",
       "      <th>SaleCondition</th>\n",
       "    </tr>\n",
       "  </thead>\n",
       "  <tbody>\n",
       "    <tr>\n",
       "      <th>Id</th>\n",
       "      <td>1.000000</td>\n",
       "      <td>0.011156</td>\n",
       "      <td>-0.006096</td>\n",
       "      <td>-0.009601</td>\n",
       "      <td>-0.033226</td>\n",
       "      <td>0.008916</td>\n",
       "      <td>0.032122</td>\n",
       "      <td>-0.019659</td>\n",
       "      <td>1.332409e-02</td>\n",
       "      <td>0.049756</td>\n",
       "      <td>...</td>\n",
       "      <td>-0.000477</td>\n",
       "      <td>0.002889</td>\n",
       "      <td>-0.046635</td>\n",
       "      <td>0.001330</td>\n",
       "      <td>0.057044</td>\n",
       "      <td>-0.006242</td>\n",
       "      <td>0.021172</td>\n",
       "      <td>0.000712</td>\n",
       "      <td>0.019773</td>\n",
       "      <td>-0.005806</td>\n",
       "    </tr>\n",
       "    <tr>\n",
       "      <th>MSSubClass</th>\n",
       "      <td>0.011156</td>\n",
       "      <td>1.000000</td>\n",
       "      <td>0.035900</td>\n",
       "      <td>-0.357056</td>\n",
       "      <td>-0.139781</td>\n",
       "      <td>-0.024969</td>\n",
       "      <td>0.119289</td>\n",
       "      <td>-0.002940</td>\n",
       "      <td>-2.284384e-02</td>\n",
       "      <td>0.075910</td>\n",
       "      <td>...</td>\n",
       "      <td>-0.006100</td>\n",
       "      <td>-0.012037</td>\n",
       "      <td>-0.043825</td>\n",
       "      <td>-0.026030</td>\n",
       "      <td>0.008283</td>\n",
       "      <td>-0.007683</td>\n",
       "      <td>-0.013585</td>\n",
       "      <td>-0.021407</td>\n",
       "      <td>0.012464</td>\n",
       "      <td>-0.024940</td>\n",
       "    </tr>\n",
       "    <tr>\n",
       "      <th>MSZoning</th>\n",
       "      <td>-0.006096</td>\n",
       "      <td>0.035900</td>\n",
       "      <td>1.000000</td>\n",
       "      <td>-0.106363</td>\n",
       "      <td>-0.034452</td>\n",
       "      <td>0.087654</td>\n",
       "      <td>0.061887</td>\n",
       "      <td>-0.017854</td>\n",
       "      <td>-1.192034e-03</td>\n",
       "      <td>-0.009895</td>\n",
       "      <td>...</td>\n",
       "      <td>-0.154704</td>\n",
       "      <td>0.115509</td>\n",
       "      <td>0.000362</td>\n",
       "      <td>0.019089</td>\n",
       "      <td>-0.003128</td>\n",
       "      <td>0.009293</td>\n",
       "      <td>-0.031496</td>\n",
       "      <td>-0.020628</td>\n",
       "      <td>0.097437</td>\n",
       "      <td>0.009494</td>\n",
       "    </tr>\n",
       "    <tr>\n",
       "      <th>LotFrontage</th>\n",
       "      <td>-0.009601</td>\n",
       "      <td>-0.357056</td>\n",
       "      <td>-0.106363</td>\n",
       "      <td>1.000000</td>\n",
       "      <td>0.306795</td>\n",
       "      <td>-0.037323</td>\n",
       "      <td>-0.144931</td>\n",
       "      <td>-0.075647</td>\n",
       "      <td>-5.447825e-18</td>\n",
       "      <td>-0.181253</td>\n",
       "      <td>...</td>\n",
       "      <td>0.137454</td>\n",
       "      <td>0.009790</td>\n",
       "      <td>0.062335</td>\n",
       "      <td>0.037684</td>\n",
       "      <td>0.180868</td>\n",
       "      <td>0.001168</td>\n",
       "      <td>0.010158</td>\n",
       "      <td>0.006768</td>\n",
       "      <td>-0.030846</td>\n",
       "      <td>0.058464</td>\n",
       "    </tr>\n",
       "    <tr>\n",
       "      <th>LotArea</th>\n",
       "      <td>-0.033226</td>\n",
       "      <td>-0.139781</td>\n",
       "      <td>-0.034452</td>\n",
       "      <td>0.306795</td>\n",
       "      <td>1.000000</td>\n",
       "      <td>-0.197131</td>\n",
       "      <td>-0.165315</td>\n",
       "      <td>-0.149083</td>\n",
       "      <td>1.012318e-02</td>\n",
       "      <td>-0.121161</td>\n",
       "      <td>...</td>\n",
       "      <td>0.084774</td>\n",
       "      <td>-0.018340</td>\n",
       "      <td>0.020423</td>\n",
       "      <td>0.043160</td>\n",
       "      <td>0.077672</td>\n",
       "      <td>0.038068</td>\n",
       "      <td>0.001205</td>\n",
       "      <td>-0.014261</td>\n",
       "      <td>0.012292</td>\n",
       "      <td>0.034169</td>\n",
       "    </tr>\n",
       "    <tr>\n",
       "      <th>...</th>\n",
       "      <td>...</td>\n",
       "      <td>...</td>\n",
       "      <td>...</td>\n",
       "      <td>...</td>\n",
       "      <td>...</td>\n",
       "      <td>...</td>\n",
       "      <td>...</td>\n",
       "      <td>...</td>\n",
       "      <td>...</td>\n",
       "      <td>...</td>\n",
       "      <td>...</td>\n",
       "      <td>...</td>\n",
       "      <td>...</td>\n",
       "      <td>...</td>\n",
       "      <td>...</td>\n",
       "      <td>...</td>\n",
       "      <td>...</td>\n",
       "      <td>...</td>\n",
       "      <td>...</td>\n",
       "      <td>...</td>\n",
       "      <td>...</td>\n",
       "    </tr>\n",
       "    <tr>\n",
       "      <th>MiscVal</th>\n",
       "      <td>-0.006242</td>\n",
       "      <td>-0.007683</td>\n",
       "      <td>0.009293</td>\n",
       "      <td>0.001168</td>\n",
       "      <td>0.038068</td>\n",
       "      <td>-0.022733</td>\n",
       "      <td>-0.042061</td>\n",
       "      <td>0.020912</td>\n",
       "      <td>-2.295681e-03</td>\n",
       "      <td>-0.018427</td>\n",
       "      <td>...</td>\n",
       "      <td>-0.018584</td>\n",
       "      <td>0.018361</td>\n",
       "      <td>0.000354</td>\n",
       "      <td>0.031946</td>\n",
       "      <td>0.029669</td>\n",
       "      <td>1.000000</td>\n",
       "      <td>-0.006495</td>\n",
       "      <td>0.004906</td>\n",
       "      <td>0.015773</td>\n",
       "      <td>0.013027</td>\n",
       "    </tr>\n",
       "    <tr>\n",
       "      <th>MoSold</th>\n",
       "      <td>0.021172</td>\n",
       "      <td>-0.013585</td>\n",
       "      <td>-0.031496</td>\n",
       "      <td>0.010158</td>\n",
       "      <td>0.001205</td>\n",
       "      <td>0.003690</td>\n",
       "      <td>-0.033455</td>\n",
       "      <td>-0.011599</td>\n",
       "      <td>-5.155166e-02</td>\n",
       "      <td>0.018902</td>\n",
       "      <td>...</td>\n",
       "      <td>0.071255</td>\n",
       "      <td>-0.028887</td>\n",
       "      <td>0.029474</td>\n",
       "      <td>0.023217</td>\n",
       "      <td>-0.033737</td>\n",
       "      <td>-0.006495</td>\n",
       "      <td>1.000000</td>\n",
       "      <td>-0.145721</td>\n",
       "      <td>-0.047386</td>\n",
       "      <td>0.013320</td>\n",
       "    </tr>\n",
       "    <tr>\n",
       "      <th>YrSold</th>\n",
       "      <td>0.000712</td>\n",
       "      <td>-0.021407</td>\n",
       "      <td>-0.020628</td>\n",
       "      <td>0.006768</td>\n",
       "      <td>-0.014261</td>\n",
       "      <td>-0.025043</td>\n",
       "      <td>0.036449</td>\n",
       "      <td>0.020507</td>\n",
       "      <td>2.335254e-02</td>\n",
       "      <td>-0.005992</td>\n",
       "      <td>...</td>\n",
       "      <td>-0.057619</td>\n",
       "      <td>-0.009916</td>\n",
       "      <td>0.018645</td>\n",
       "      <td>0.010694</td>\n",
       "      <td>-0.059689</td>\n",
       "      <td>0.004906</td>\n",
       "      <td>-0.145721</td>\n",
       "      <td>1.000000</td>\n",
       "      <td>-0.002327</td>\n",
       "      <td>0.003880</td>\n",
       "    </tr>\n",
       "    <tr>\n",
       "      <th>SaleType</th>\n",
       "      <td>0.019773</td>\n",
       "      <td>0.012464</td>\n",
       "      <td>0.097437</td>\n",
       "      <td>-0.030846</td>\n",
       "      <td>0.012292</td>\n",
       "      <td>0.014339</td>\n",
       "      <td>-0.000911</td>\n",
       "      <td>-0.025754</td>\n",
       "      <td>-1.267697e-01</td>\n",
       "      <td>0.014325</td>\n",
       "      <td>...</td>\n",
       "      <td>-0.013594</td>\n",
       "      <td>-0.016731</td>\n",
       "      <td>-0.009034</td>\n",
       "      <td>0.004533</td>\n",
       "      <td>0.011009</td>\n",
       "      <td>0.015773</td>\n",
       "      <td>-0.047386</td>\n",
       "      <td>-0.002327</td>\n",
       "      <td>1.000000</td>\n",
       "      <td>0.184067</td>\n",
       "    </tr>\n",
       "    <tr>\n",
       "      <th>SaleCondition</th>\n",
       "      <td>-0.005806</td>\n",
       "      <td>-0.024940</td>\n",
       "      <td>0.009494</td>\n",
       "      <td>0.058464</td>\n",
       "      <td>0.034169</td>\n",
       "      <td>0.006064</td>\n",
       "      <td>-0.038118</td>\n",
       "      <td>0.033809</td>\n",
       "      <td>-8.970068e-02</td>\n",
       "      <td>0.051579</td>\n",
       "      <td>...</td>\n",
       "      <td>0.061665</td>\n",
       "      <td>-0.098388</td>\n",
       "      <td>0.004379</td>\n",
       "      <td>-0.020095</td>\n",
       "      <td>-0.067251</td>\n",
       "      <td>0.013027</td>\n",
       "      <td>0.013320</td>\n",
       "      <td>0.003880</td>\n",
       "      <td>0.184067</td>\n",
       "      <td>1.000000</td>\n",
       "    </tr>\n",
       "  </tbody>\n",
       "</table>\n",
       "<p>74 rows × 74 columns</p>\n",
       "</div>"
      ],
      "text/plain": [
       "                     Id  MSSubClass  MSZoning  LotFrontage   LotArea  \\\n",
       "Id             1.000000    0.011156 -0.006096    -0.009601 -0.033226   \n",
       "MSSubClass     0.011156    1.000000  0.035900    -0.357056 -0.139781   \n",
       "MSZoning      -0.006096    0.035900  1.000000    -0.106363 -0.034452   \n",
       "LotFrontage   -0.009601   -0.357056 -0.106363     1.000000  0.306795   \n",
       "LotArea       -0.033226   -0.139781 -0.034452     0.306795  1.000000   \n",
       "...                 ...         ...       ...          ...       ...   \n",
       "MiscVal       -0.006242   -0.007683  0.009293     0.001168  0.038068   \n",
       "MoSold         0.021172   -0.013585 -0.031496     0.010158  0.001205   \n",
       "YrSold         0.000712   -0.021407 -0.020628     0.006768 -0.014261   \n",
       "SaleType       0.019773    0.012464  0.097437    -0.030846  0.012292   \n",
       "SaleCondition -0.005806   -0.024940  0.009494     0.058464  0.034169   \n",
       "\n",
       "                 Street  LotShape  LandContour     Utilities  LotConfig  ...  \\\n",
       "Id             0.008916  0.032122    -0.019659  1.332409e-02   0.049756  ...   \n",
       "MSSubClass    -0.024969  0.119289    -0.002940 -2.284384e-02   0.075910  ...   \n",
       "MSZoning       0.087654  0.061887    -0.017854 -1.192034e-03  -0.009895  ...   \n",
       "LotFrontage   -0.037323 -0.144931    -0.075647 -5.447825e-18  -0.181253  ...   \n",
       "LotArea       -0.197131 -0.165315    -0.149083  1.012318e-02  -0.121161  ...   \n",
       "...                 ...       ...          ...           ...        ...  ...   \n",
       "MiscVal       -0.022733 -0.042061     0.020912 -2.295681e-03  -0.018427  ...   \n",
       "MoSold         0.003690 -0.033455    -0.011599 -5.155166e-02   0.018902  ...   \n",
       "YrSold        -0.025043  0.036449     0.020507  2.335254e-02  -0.005992  ...   \n",
       "SaleType       0.014339 -0.000911    -0.025754 -1.267697e-01   0.014325  ...   \n",
       "SaleCondition  0.006064 -0.038118     0.033809 -8.970068e-02   0.051579  ...   \n",
       "\n",
       "               OpenPorchSF  EnclosedPorch  3SsnPorch  ScreenPorch  PoolArea  \\\n",
       "Id               -0.000477       0.002889  -0.046635     0.001330  0.057044   \n",
       "MSSubClass       -0.006100      -0.012037  -0.043825    -0.026030  0.008283   \n",
       "MSZoning         -0.154704       0.115509   0.000362     0.019089 -0.003128   \n",
       "LotFrontage       0.137454       0.009790   0.062335     0.037684  0.180868   \n",
       "LotArea           0.084774      -0.018340   0.020423     0.043160  0.077672   \n",
       "...                    ...            ...        ...          ...       ...   \n",
       "MiscVal          -0.018584       0.018361   0.000354     0.031946  0.029669   \n",
       "MoSold            0.071255      -0.028887   0.029474     0.023217 -0.033737   \n",
       "YrSold           -0.057619      -0.009916   0.018645     0.010694 -0.059689   \n",
       "SaleType         -0.013594      -0.016731  -0.009034     0.004533  0.011009   \n",
       "SaleCondition     0.061665      -0.098388   0.004379    -0.020095 -0.067251   \n",
       "\n",
       "                MiscVal    MoSold    YrSold  SaleType  SaleCondition  \n",
       "Id            -0.006242  0.021172  0.000712  0.019773      -0.005806  \n",
       "MSSubClass    -0.007683 -0.013585 -0.021407  0.012464      -0.024940  \n",
       "MSZoning       0.009293 -0.031496 -0.020628  0.097437       0.009494  \n",
       "LotFrontage    0.001168  0.010158  0.006768 -0.030846       0.058464  \n",
       "LotArea        0.038068  0.001205 -0.014261  0.012292       0.034169  \n",
       "...                 ...       ...       ...       ...            ...  \n",
       "MiscVal        1.000000 -0.006495  0.004906  0.015773       0.013027  \n",
       "MoSold        -0.006495  1.000000 -0.145721 -0.047386       0.013320  \n",
       "YrSold         0.004906 -0.145721  1.000000 -0.002327       0.003880  \n",
       "SaleType       0.015773 -0.047386 -0.002327  1.000000       0.184067  \n",
       "SaleCondition  0.013027  0.013320  0.003880  0.184067       1.000000  \n",
       "\n",
       "[74 rows x 74 columns]"
      ]
     },
     "execution_count": 27,
     "metadata": {},
     "output_type": "execute_result"
    }
   ],
   "source": [
    "corr"
   ]
  },
  {
   "cell_type": "code",
   "execution_count": 28,
   "id": "69f3d017",
   "metadata": {
    "execution": {
     "iopub.execute_input": "2025-01-28T13:15:40.539649Z",
     "iopub.status.busy": "2025-01-28T13:15:40.539234Z",
     "iopub.status.idle": "2025-01-28T13:15:40.605547Z",
     "shell.execute_reply": "2025-01-28T13:15:40.604218Z"
    },
    "papermill": {
     "duration": 0.083333,
     "end_time": "2025-01-28T13:15:40.607987",
     "exception": false,
     "start_time": "2025-01-28T13:15:40.524654",
     "status": "completed"
    },
    "tags": []
   },
   "outputs": [],
   "source": [
    "st = set();\n",
    "for i in range(0,len(corr)):\n",
    "    for j in range(0,i):\n",
    "        if abs(corr.iloc[i,j])>0.85:\n",
    "            st.add(X_train.columns[i])"
   ]
  },
  {
   "cell_type": "code",
   "execution_count": 29,
   "id": "974fbf2e",
   "metadata": {
    "execution": {
     "iopub.execute_input": "2025-01-28T13:15:40.637325Z",
     "iopub.status.busy": "2025-01-28T13:15:40.636913Z",
     "iopub.status.idle": "2025-01-28T13:15:40.642024Z",
     "shell.execute_reply": "2025-01-28T13:15:40.640465Z"
    },
    "papermill": {
     "duration": 0.021956,
     "end_time": "2025-01-28T13:15:40.644286",
     "exception": false,
     "start_time": "2025-01-28T13:15:40.622330",
     "status": "completed"
    },
    "tags": []
   },
   "outputs": [],
   "source": [
    "st = list(st)"
   ]
  },
  {
   "cell_type": "code",
   "execution_count": 30,
   "id": "923d351d",
   "metadata": {
    "execution": {
     "iopub.execute_input": "2025-01-28T13:15:40.672984Z",
     "iopub.status.busy": "2025-01-28T13:15:40.672537Z",
     "iopub.status.idle": "2025-01-28T13:15:40.700127Z",
     "shell.execute_reply": "2025-01-28T13:15:40.698938Z"
    },
    "papermill": {
     "duration": 0.044146,
     "end_time": "2025-01-28T13:15:40.702207",
     "exception": false,
     "start_time": "2025-01-28T13:15:40.658061",
     "status": "completed"
    },
    "tags": []
   },
   "outputs": [
    {
     "data": {
      "text/html": [
       "<div>\n",
       "<style scoped>\n",
       "    .dataframe tbody tr th:only-of-type {\n",
       "        vertical-align: middle;\n",
       "    }\n",
       "\n",
       "    .dataframe tbody tr th {\n",
       "        vertical-align: top;\n",
       "    }\n",
       "\n",
       "    .dataframe thead th {\n",
       "        text-align: right;\n",
       "    }\n",
       "</style>\n",
       "<table border=\"1\" class=\"dataframe\">\n",
       "  <thead>\n",
       "    <tr style=\"text-align: right;\">\n",
       "      <th></th>\n",
       "      <th>Id</th>\n",
       "      <th>MSSubClass</th>\n",
       "      <th>MSZoning</th>\n",
       "      <th>LotFrontage</th>\n",
       "      <th>LotArea</th>\n",
       "      <th>Street</th>\n",
       "      <th>LotShape</th>\n",
       "      <th>LandContour</th>\n",
       "      <th>Utilities</th>\n",
       "      <th>LotConfig</th>\n",
       "      <th>...</th>\n",
       "      <th>OpenPorchSF</th>\n",
       "      <th>EnclosedPorch</th>\n",
       "      <th>3SsnPorch</th>\n",
       "      <th>ScreenPorch</th>\n",
       "      <th>PoolArea</th>\n",
       "      <th>MiscVal</th>\n",
       "      <th>MoSold</th>\n",
       "      <th>YrSold</th>\n",
       "      <th>SaleType</th>\n",
       "      <th>SaleCondition</th>\n",
       "    </tr>\n",
       "  </thead>\n",
       "  <tbody>\n",
       "    <tr>\n",
       "      <th>0</th>\n",
       "      <td>1461</td>\n",
       "      <td>20</td>\n",
       "      <td>2</td>\n",
       "      <td>80.0</td>\n",
       "      <td>11622</td>\n",
       "      <td>1</td>\n",
       "      <td>3</td>\n",
       "      <td>3</td>\n",
       "      <td>0</td>\n",
       "      <td>4</td>\n",
       "      <td>...</td>\n",
       "      <td>0</td>\n",
       "      <td>0</td>\n",
       "      <td>0</td>\n",
       "      <td>120</td>\n",
       "      <td>0</td>\n",
       "      <td>0</td>\n",
       "      <td>6</td>\n",
       "      <td>2010</td>\n",
       "      <td>8</td>\n",
       "      <td>4</td>\n",
       "    </tr>\n",
       "    <tr>\n",
       "      <th>1</th>\n",
       "      <td>1462</td>\n",
       "      <td>20</td>\n",
       "      <td>3</td>\n",
       "      <td>81.0</td>\n",
       "      <td>14267</td>\n",
       "      <td>1</td>\n",
       "      <td>0</td>\n",
       "      <td>3</td>\n",
       "      <td>0</td>\n",
       "      <td>0</td>\n",
       "      <td>...</td>\n",
       "      <td>36</td>\n",
       "      <td>0</td>\n",
       "      <td>0</td>\n",
       "      <td>0</td>\n",
       "      <td>0</td>\n",
       "      <td>12500</td>\n",
       "      <td>6</td>\n",
       "      <td>2010</td>\n",
       "      <td>8</td>\n",
       "      <td>4</td>\n",
       "    </tr>\n",
       "    <tr>\n",
       "      <th>2</th>\n",
       "      <td>1463</td>\n",
       "      <td>60</td>\n",
       "      <td>3</td>\n",
       "      <td>74.0</td>\n",
       "      <td>13830</td>\n",
       "      <td>1</td>\n",
       "      <td>0</td>\n",
       "      <td>3</td>\n",
       "      <td>0</td>\n",
       "      <td>4</td>\n",
       "      <td>...</td>\n",
       "      <td>34</td>\n",
       "      <td>0</td>\n",
       "      <td>0</td>\n",
       "      <td>0</td>\n",
       "      <td>0</td>\n",
       "      <td>0</td>\n",
       "      <td>3</td>\n",
       "      <td>2010</td>\n",
       "      <td>8</td>\n",
       "      <td>4</td>\n",
       "    </tr>\n",
       "    <tr>\n",
       "      <th>3</th>\n",
       "      <td>1464</td>\n",
       "      <td>60</td>\n",
       "      <td>3</td>\n",
       "      <td>78.0</td>\n",
       "      <td>9978</td>\n",
       "      <td>1</td>\n",
       "      <td>0</td>\n",
       "      <td>3</td>\n",
       "      <td>0</td>\n",
       "      <td>4</td>\n",
       "      <td>...</td>\n",
       "      <td>36</td>\n",
       "      <td>0</td>\n",
       "      <td>0</td>\n",
       "      <td>0</td>\n",
       "      <td>0</td>\n",
       "      <td>0</td>\n",
       "      <td>6</td>\n",
       "      <td>2010</td>\n",
       "      <td>8</td>\n",
       "      <td>4</td>\n",
       "    </tr>\n",
       "    <tr>\n",
       "      <th>4</th>\n",
       "      <td>1465</td>\n",
       "      <td>120</td>\n",
       "      <td>3</td>\n",
       "      <td>43.0</td>\n",
       "      <td>5005</td>\n",
       "      <td>1</td>\n",
       "      <td>0</td>\n",
       "      <td>1</td>\n",
       "      <td>0</td>\n",
       "      <td>4</td>\n",
       "      <td>...</td>\n",
       "      <td>82</td>\n",
       "      <td>0</td>\n",
       "      <td>0</td>\n",
       "      <td>144</td>\n",
       "      <td>0</td>\n",
       "      <td>0</td>\n",
       "      <td>1</td>\n",
       "      <td>2010</td>\n",
       "      <td>8</td>\n",
       "      <td>4</td>\n",
       "    </tr>\n",
       "    <tr>\n",
       "      <th>...</th>\n",
       "      <td>...</td>\n",
       "      <td>...</td>\n",
       "      <td>...</td>\n",
       "      <td>...</td>\n",
       "      <td>...</td>\n",
       "      <td>...</td>\n",
       "      <td>...</td>\n",
       "      <td>...</td>\n",
       "      <td>...</td>\n",
       "      <td>...</td>\n",
       "      <td>...</td>\n",
       "      <td>...</td>\n",
       "      <td>...</td>\n",
       "      <td>...</td>\n",
       "      <td>...</td>\n",
       "      <td>...</td>\n",
       "      <td>...</td>\n",
       "      <td>...</td>\n",
       "      <td>...</td>\n",
       "      <td>...</td>\n",
       "      <td>...</td>\n",
       "    </tr>\n",
       "    <tr>\n",
       "      <th>1454</th>\n",
       "      <td>2915</td>\n",
       "      <td>160</td>\n",
       "      <td>4</td>\n",
       "      <td>21.0</td>\n",
       "      <td>1936</td>\n",
       "      <td>1</td>\n",
       "      <td>3</td>\n",
       "      <td>3</td>\n",
       "      <td>0</td>\n",
       "      <td>4</td>\n",
       "      <td>...</td>\n",
       "      <td>0</td>\n",
       "      <td>0</td>\n",
       "      <td>0</td>\n",
       "      <td>0</td>\n",
       "      <td>0</td>\n",
       "      <td>0</td>\n",
       "      <td>6</td>\n",
       "      <td>2006</td>\n",
       "      <td>8</td>\n",
       "      <td>4</td>\n",
       "    </tr>\n",
       "    <tr>\n",
       "      <th>1455</th>\n",
       "      <td>2916</td>\n",
       "      <td>160</td>\n",
       "      <td>4</td>\n",
       "      <td>21.0</td>\n",
       "      <td>1894</td>\n",
       "      <td>1</td>\n",
       "      <td>3</td>\n",
       "      <td>3</td>\n",
       "      <td>0</td>\n",
       "      <td>4</td>\n",
       "      <td>...</td>\n",
       "      <td>24</td>\n",
       "      <td>0</td>\n",
       "      <td>0</td>\n",
       "      <td>0</td>\n",
       "      <td>0</td>\n",
       "      <td>0</td>\n",
       "      <td>4</td>\n",
       "      <td>2006</td>\n",
       "      <td>8</td>\n",
       "      <td>0</td>\n",
       "    </tr>\n",
       "    <tr>\n",
       "      <th>1456</th>\n",
       "      <td>2917</td>\n",
       "      <td>20</td>\n",
       "      <td>3</td>\n",
       "      <td>160.0</td>\n",
       "      <td>20000</td>\n",
       "      <td>1</td>\n",
       "      <td>3</td>\n",
       "      <td>3</td>\n",
       "      <td>0</td>\n",
       "      <td>4</td>\n",
       "      <td>...</td>\n",
       "      <td>0</td>\n",
       "      <td>0</td>\n",
       "      <td>0</td>\n",
       "      <td>0</td>\n",
       "      <td>0</td>\n",
       "      <td>0</td>\n",
       "      <td>9</td>\n",
       "      <td>2006</td>\n",
       "      <td>8</td>\n",
       "      <td>0</td>\n",
       "    </tr>\n",
       "    <tr>\n",
       "      <th>1457</th>\n",
       "      <td>2918</td>\n",
       "      <td>85</td>\n",
       "      <td>3</td>\n",
       "      <td>62.0</td>\n",
       "      <td>10441</td>\n",
       "      <td>1</td>\n",
       "      <td>3</td>\n",
       "      <td>3</td>\n",
       "      <td>0</td>\n",
       "      <td>4</td>\n",
       "      <td>...</td>\n",
       "      <td>32</td>\n",
       "      <td>0</td>\n",
       "      <td>0</td>\n",
       "      <td>0</td>\n",
       "      <td>0</td>\n",
       "      <td>700</td>\n",
       "      <td>7</td>\n",
       "      <td>2006</td>\n",
       "      <td>8</td>\n",
       "      <td>4</td>\n",
       "    </tr>\n",
       "    <tr>\n",
       "      <th>1458</th>\n",
       "      <td>2919</td>\n",
       "      <td>60</td>\n",
       "      <td>3</td>\n",
       "      <td>74.0</td>\n",
       "      <td>9627</td>\n",
       "      <td>1</td>\n",
       "      <td>3</td>\n",
       "      <td>3</td>\n",
       "      <td>0</td>\n",
       "      <td>4</td>\n",
       "      <td>...</td>\n",
       "      <td>48</td>\n",
       "      <td>0</td>\n",
       "      <td>0</td>\n",
       "      <td>0</td>\n",
       "      <td>0</td>\n",
       "      <td>0</td>\n",
       "      <td>11</td>\n",
       "      <td>2006</td>\n",
       "      <td>8</td>\n",
       "      <td>4</td>\n",
       "    </tr>\n",
       "  </tbody>\n",
       "</table>\n",
       "<p>1459 rows × 72 columns</p>\n",
       "</div>"
      ],
      "text/plain": [
       "        Id  MSSubClass  MSZoning  LotFrontage  LotArea  Street  LotShape  \\\n",
       "0     1461          20         2         80.0    11622       1         3   \n",
       "1     1462          20         3         81.0    14267       1         0   \n",
       "2     1463          60         3         74.0    13830       1         0   \n",
       "3     1464          60         3         78.0     9978       1         0   \n",
       "4     1465         120         3         43.0     5005       1         0   \n",
       "...    ...         ...       ...          ...      ...     ...       ...   \n",
       "1454  2915         160         4         21.0     1936       1         3   \n",
       "1455  2916         160         4         21.0     1894       1         3   \n",
       "1456  2917          20         3        160.0    20000       1         3   \n",
       "1457  2918          85         3         62.0    10441       1         3   \n",
       "1458  2919          60         3         74.0     9627       1         3   \n",
       "\n",
       "      LandContour  Utilities  LotConfig  ...  OpenPorchSF  EnclosedPorch  \\\n",
       "0               3          0          4  ...            0              0   \n",
       "1               3          0          0  ...           36              0   \n",
       "2               3          0          4  ...           34              0   \n",
       "3               3          0          4  ...           36              0   \n",
       "4               1          0          4  ...           82              0   \n",
       "...           ...        ...        ...  ...          ...            ...   \n",
       "1454            3          0          4  ...            0              0   \n",
       "1455            3          0          4  ...           24              0   \n",
       "1456            3          0          4  ...            0              0   \n",
       "1457            3          0          4  ...           32              0   \n",
       "1458            3          0          4  ...           48              0   \n",
       "\n",
       "      3SsnPorch  ScreenPorch  PoolArea  MiscVal  MoSold  YrSold  SaleType  \\\n",
       "0             0          120         0        0       6    2010         8   \n",
       "1             0            0         0    12500       6    2010         8   \n",
       "2             0            0         0        0       3    2010         8   \n",
       "3             0            0         0        0       6    2010         8   \n",
       "4             0          144         0        0       1    2010         8   \n",
       "...         ...          ...       ...      ...     ...     ...       ...   \n",
       "1454          0            0         0        0       6    2006         8   \n",
       "1455          0            0         0        0       4    2006         8   \n",
       "1456          0            0         0        0       9    2006         8   \n",
       "1457          0            0         0      700       7    2006         8   \n",
       "1458          0            0         0        0      11    2006         8   \n",
       "\n",
       "      SaleCondition  \n",
       "0                 4  \n",
       "1                 4  \n",
       "2                 4  \n",
       "3                 4  \n",
       "4                 4  \n",
       "...             ...  \n",
       "1454              4  \n",
       "1455              0  \n",
       "1456              0  \n",
       "1457              4  \n",
       "1458              4  \n",
       "\n",
       "[1459 rows x 72 columns]"
      ]
     },
     "execution_count": 30,
     "metadata": {},
     "output_type": "execute_result"
    }
   ],
   "source": [
    "X_train.drop(st,axis=1)\n",
    "X_test.drop(st,axis=1)"
   ]
  },
  {
   "cell_type": "code",
   "execution_count": 31,
   "id": "d0b19c20",
   "metadata": {
    "execution": {
     "iopub.execute_input": "2025-01-28T13:15:40.731335Z",
     "iopub.status.busy": "2025-01-28T13:15:40.730925Z",
     "iopub.status.idle": "2025-01-28T13:15:40.887983Z",
     "shell.execute_reply": "2025-01-28T13:15:40.886544Z"
    },
    "papermill": {
     "duration": 0.174189,
     "end_time": "2025-01-28T13:15:40.890422",
     "exception": false,
     "start_time": "2025-01-28T13:15:40.716233",
     "status": "completed"
    },
    "tags": []
   },
   "outputs": [],
   "source": [
    "from sklearn.model_selection import train_test_split\n",
    "X_train_new, X_test_new, y_train_new, y_test_new = train_test_split(X_train,y_train,test_size=0.25,random_state=42)"
   ]
  },
  {
   "cell_type": "code",
   "execution_count": 32,
   "id": "7920a73a",
   "metadata": {
    "execution": {
     "iopub.execute_input": "2025-01-28T13:15:40.920901Z",
     "iopub.status.busy": "2025-01-28T13:15:40.920405Z",
     "iopub.status.idle": "2025-01-28T13:15:41.069141Z",
     "shell.execute_reply": "2025-01-28T13:15:41.067403Z"
    },
    "papermill": {
     "duration": 0.167867,
     "end_time": "2025-01-28T13:15:41.072206",
     "exception": false,
     "start_time": "2025-01-28T13:15:40.904339",
     "status": "completed"
    },
    "tags": []
   },
   "outputs": [],
   "source": [
    "from sklearn.linear_model import LinearRegression"
   ]
  },
  {
   "cell_type": "code",
   "execution_count": 33,
   "id": "c151b626",
   "metadata": {
    "execution": {
     "iopub.execute_input": "2025-01-28T13:15:41.113127Z",
     "iopub.status.busy": "2025-01-28T13:15:41.112605Z",
     "iopub.status.idle": "2025-01-28T13:15:41.119686Z",
     "shell.execute_reply": "2025-01-28T13:15:41.117680Z"
    },
    "papermill": {
     "duration": 0.03408,
     "end_time": "2025-01-28T13:15:41.122578",
     "exception": false,
     "start_time": "2025-01-28T13:15:41.088498",
     "status": "completed"
    },
    "tags": []
   },
   "outputs": [],
   "source": [
    "model = LinearRegression()"
   ]
  },
  {
   "cell_type": "code",
   "execution_count": 34,
   "id": "4a95d418",
   "metadata": {
    "execution": {
     "iopub.execute_input": "2025-01-28T13:15:41.164807Z",
     "iopub.status.busy": "2025-01-28T13:15:41.164389Z",
     "iopub.status.idle": "2025-01-28T13:15:41.269044Z",
     "shell.execute_reply": "2025-01-28T13:15:41.267952Z"
    },
    "papermill": {
     "duration": 0.127358,
     "end_time": "2025-01-28T13:15:41.271036",
     "exception": false,
     "start_time": "2025-01-28T13:15:41.143678",
     "status": "completed"
    },
    "tags": []
   },
   "outputs": [
    {
     "data": {
      "text/html": [
       "<style>#sk-container-id-1 {color: black;background-color: white;}#sk-container-id-1 pre{padding: 0;}#sk-container-id-1 div.sk-toggleable {background-color: white;}#sk-container-id-1 label.sk-toggleable__label {cursor: pointer;display: block;width: 100%;margin-bottom: 0;padding: 0.3em;box-sizing: border-box;text-align: center;}#sk-container-id-1 label.sk-toggleable__label-arrow:before {content: \"▸\";float: left;margin-right: 0.25em;color: #696969;}#sk-container-id-1 label.sk-toggleable__label-arrow:hover:before {color: black;}#sk-container-id-1 div.sk-estimator:hover label.sk-toggleable__label-arrow:before {color: black;}#sk-container-id-1 div.sk-toggleable__content {max-height: 0;max-width: 0;overflow: hidden;text-align: left;background-color: #f0f8ff;}#sk-container-id-1 div.sk-toggleable__content pre {margin: 0.2em;color: black;border-radius: 0.25em;background-color: #f0f8ff;}#sk-container-id-1 input.sk-toggleable__control:checked~div.sk-toggleable__content {max-height: 200px;max-width: 100%;overflow: auto;}#sk-container-id-1 input.sk-toggleable__control:checked~label.sk-toggleable__label-arrow:before {content: \"▾\";}#sk-container-id-1 div.sk-estimator input.sk-toggleable__control:checked~label.sk-toggleable__label {background-color: #d4ebff;}#sk-container-id-1 div.sk-label input.sk-toggleable__control:checked~label.sk-toggleable__label {background-color: #d4ebff;}#sk-container-id-1 input.sk-hidden--visually {border: 0;clip: rect(1px 1px 1px 1px);clip: rect(1px, 1px, 1px, 1px);height: 1px;margin: -1px;overflow: hidden;padding: 0;position: absolute;width: 1px;}#sk-container-id-1 div.sk-estimator {font-family: monospace;background-color: #f0f8ff;border: 1px dotted black;border-radius: 0.25em;box-sizing: border-box;margin-bottom: 0.5em;}#sk-container-id-1 div.sk-estimator:hover {background-color: #d4ebff;}#sk-container-id-1 div.sk-parallel-item::after {content: \"\";width: 100%;border-bottom: 1px solid gray;flex-grow: 1;}#sk-container-id-1 div.sk-label:hover label.sk-toggleable__label {background-color: #d4ebff;}#sk-container-id-1 div.sk-serial::before {content: \"\";position: absolute;border-left: 1px solid gray;box-sizing: border-box;top: 0;bottom: 0;left: 50%;z-index: 0;}#sk-container-id-1 div.sk-serial {display: flex;flex-direction: column;align-items: center;background-color: white;padding-right: 0.2em;padding-left: 0.2em;position: relative;}#sk-container-id-1 div.sk-item {position: relative;z-index: 1;}#sk-container-id-1 div.sk-parallel {display: flex;align-items: stretch;justify-content: center;background-color: white;position: relative;}#sk-container-id-1 div.sk-item::before, #sk-container-id-1 div.sk-parallel-item::before {content: \"\";position: absolute;border-left: 1px solid gray;box-sizing: border-box;top: 0;bottom: 0;left: 50%;z-index: -1;}#sk-container-id-1 div.sk-parallel-item {display: flex;flex-direction: column;z-index: 1;position: relative;background-color: white;}#sk-container-id-1 div.sk-parallel-item:first-child::after {align-self: flex-end;width: 50%;}#sk-container-id-1 div.sk-parallel-item:last-child::after {align-self: flex-start;width: 50%;}#sk-container-id-1 div.sk-parallel-item:only-child::after {width: 0;}#sk-container-id-1 div.sk-dashed-wrapped {border: 1px dashed gray;margin: 0 0.4em 0.5em 0.4em;box-sizing: border-box;padding-bottom: 0.4em;background-color: white;}#sk-container-id-1 div.sk-label label {font-family: monospace;font-weight: bold;display: inline-block;line-height: 1.2em;}#sk-container-id-1 div.sk-label-container {text-align: center;}#sk-container-id-1 div.sk-container {/* jupyter's `normalize.less` sets `[hidden] { display: none; }` but bootstrap.min.css set `[hidden] { display: none !important; }` so we also need the `!important` here to be able to override the default hidden behavior on the sphinx rendered scikit-learn.org. See: https://github.com/scikit-learn/scikit-learn/issues/21755 */display: inline-block !important;position: relative;}#sk-container-id-1 div.sk-text-repr-fallback {display: none;}</style><div id=\"sk-container-id-1\" class=\"sk-top-container\"><div class=\"sk-text-repr-fallback\"><pre>LinearRegression()</pre><b>In a Jupyter environment, please rerun this cell to show the HTML representation or trust the notebook. <br />On GitHub, the HTML representation is unable to render, please try loading this page with nbviewer.org.</b></div><div class=\"sk-container\" hidden><div class=\"sk-item\"><div class=\"sk-estimator sk-toggleable\"><input class=\"sk-toggleable__control sk-hidden--visually\" id=\"sk-estimator-id-1\" type=\"checkbox\" checked><label for=\"sk-estimator-id-1\" class=\"sk-toggleable__label sk-toggleable__label-arrow\">LinearRegression</label><div class=\"sk-toggleable__content\"><pre>LinearRegression()</pre></div></div></div></div></div>"
      ],
      "text/plain": [
       "LinearRegression()"
      ]
     },
     "execution_count": 34,
     "metadata": {},
     "output_type": "execute_result"
    }
   ],
   "source": [
    "model.fit(X_train_new,y_train_new)"
   ]
  },
  {
   "cell_type": "code",
   "execution_count": 35,
   "id": "39a6b812",
   "metadata": {
    "execution": {
     "iopub.execute_input": "2025-01-28T13:15:41.299982Z",
     "iopub.status.busy": "2025-01-28T13:15:41.299572Z",
     "iopub.status.idle": "2025-01-28T13:15:41.311752Z",
     "shell.execute_reply": "2025-01-28T13:15:41.310125Z"
    },
    "papermill": {
     "duration": 0.029006,
     "end_time": "2025-01-28T13:15:41.313974",
     "exception": false,
     "start_time": "2025-01-28T13:15:41.284968",
     "status": "completed"
    },
    "tags": []
   },
   "outputs": [],
   "source": [
    "y_pred = model.predict(X_test_new)"
   ]
  },
  {
   "cell_type": "code",
   "execution_count": 36,
   "id": "24473e44",
   "metadata": {
    "execution": {
     "iopub.execute_input": "2025-01-28T13:15:41.345692Z",
     "iopub.status.busy": "2025-01-28T13:15:41.345340Z",
     "iopub.status.idle": "2025-01-28T13:15:41.350067Z",
     "shell.execute_reply": "2025-01-28T13:15:41.348866Z"
    },
    "papermill": {
     "duration": 0.021324,
     "end_time": "2025-01-28T13:15:41.352276",
     "exception": false,
     "start_time": "2025-01-28T13:15:41.330952",
     "status": "completed"
    },
    "tags": []
   },
   "outputs": [],
   "source": [
    "from sklearn.metrics import mean_squared_error"
   ]
  },
  {
   "cell_type": "code",
   "execution_count": 37,
   "id": "8cb4db33",
   "metadata": {
    "execution": {
     "iopub.execute_input": "2025-01-28T13:15:41.382636Z",
     "iopub.status.busy": "2025-01-28T13:15:41.382264Z",
     "iopub.status.idle": "2025-01-28T13:15:41.389655Z",
     "shell.execute_reply": "2025-01-28T13:15:41.388476Z"
    },
    "papermill": {
     "duration": 0.024803,
     "end_time": "2025-01-28T13:15:41.391658",
     "exception": false,
     "start_time": "2025-01-28T13:15:41.366855",
     "status": "completed"
    },
    "tags": []
   },
   "outputs": [
    {
     "data": {
      "text/plain": [
       "1114077514.073191"
      ]
     },
     "execution_count": 37,
     "metadata": {},
     "output_type": "execute_result"
    }
   ],
   "source": [
    "mean_squared_error(y_pred,y_test_new)"
   ]
  },
  {
   "cell_type": "code",
   "execution_count": 38,
   "id": "d713c988",
   "metadata": {
    "execution": {
     "iopub.execute_input": "2025-01-28T13:15:41.422952Z",
     "iopub.status.busy": "2025-01-28T13:15:41.422577Z",
     "iopub.status.idle": "2025-01-28T13:15:41.736090Z",
     "shell.execute_reply": "2025-01-28T13:15:41.734740Z"
    },
    "papermill": {
     "duration": 0.331615,
     "end_time": "2025-01-28T13:15:41.738313",
     "exception": false,
     "start_time": "2025-01-28T13:15:41.406698",
     "status": "completed"
    },
    "tags": []
   },
   "outputs": [],
   "source": [
    "from sklearn.ensemble import RandomForestRegressor"
   ]
  },
  {
   "cell_type": "code",
   "execution_count": 39,
   "id": "480406cb",
   "metadata": {
    "execution": {
     "iopub.execute_input": "2025-01-28T13:15:41.771214Z",
     "iopub.status.busy": "2025-01-28T13:15:41.770769Z",
     "iopub.status.idle": "2025-01-28T13:15:41.776337Z",
     "shell.execute_reply": "2025-01-28T13:15:41.775071Z"
    },
    "papermill": {
     "duration": 0.025048,
     "end_time": "2025-01-28T13:15:41.778509",
     "exception": false,
     "start_time": "2025-01-28T13:15:41.753461",
     "status": "completed"
    },
    "tags": []
   },
   "outputs": [],
   "source": [
    "rfr = RandomForestRegressor(\n",
    "    n_estimators=200,\n",
    "    criterion=\"squared_error\",\n",
    "    max_depth=10,\n",
    "    min_samples_split=2,\n",
    "    min_samples_leaf=1,\n",
    "    max_features=\"sqrt\",\n",
    "    bootstrap=True,\n",
    "    oob_score=True,\n",
    "    n_jobs=-1,\n",
    "    random_state=42,\n",
    "    verbose=0\n",
    ")"
   ]
  },
  {
   "cell_type": "code",
   "execution_count": 40,
   "id": "ffbd19ab",
   "metadata": {
    "execution": {
     "iopub.execute_input": "2025-01-28T13:15:41.807325Z",
     "iopub.status.busy": "2025-01-28T13:15:41.806992Z",
     "iopub.status.idle": "2025-01-28T13:15:42.565196Z",
     "shell.execute_reply": "2025-01-28T13:15:42.563755Z"
    },
    "papermill": {
     "duration": 0.774708,
     "end_time": "2025-01-28T13:15:42.567078",
     "exception": false,
     "start_time": "2025-01-28T13:15:41.792370",
     "status": "completed"
    },
    "tags": []
   },
   "outputs": [
    {
     "data": {
      "text/html": [
       "<style>#sk-container-id-2 {color: black;background-color: white;}#sk-container-id-2 pre{padding: 0;}#sk-container-id-2 div.sk-toggleable {background-color: white;}#sk-container-id-2 label.sk-toggleable__label {cursor: pointer;display: block;width: 100%;margin-bottom: 0;padding: 0.3em;box-sizing: border-box;text-align: center;}#sk-container-id-2 label.sk-toggleable__label-arrow:before {content: \"▸\";float: left;margin-right: 0.25em;color: #696969;}#sk-container-id-2 label.sk-toggleable__label-arrow:hover:before {color: black;}#sk-container-id-2 div.sk-estimator:hover label.sk-toggleable__label-arrow:before {color: black;}#sk-container-id-2 div.sk-toggleable__content {max-height: 0;max-width: 0;overflow: hidden;text-align: left;background-color: #f0f8ff;}#sk-container-id-2 div.sk-toggleable__content pre {margin: 0.2em;color: black;border-radius: 0.25em;background-color: #f0f8ff;}#sk-container-id-2 input.sk-toggleable__control:checked~div.sk-toggleable__content {max-height: 200px;max-width: 100%;overflow: auto;}#sk-container-id-2 input.sk-toggleable__control:checked~label.sk-toggleable__label-arrow:before {content: \"▾\";}#sk-container-id-2 div.sk-estimator input.sk-toggleable__control:checked~label.sk-toggleable__label {background-color: #d4ebff;}#sk-container-id-2 div.sk-label input.sk-toggleable__control:checked~label.sk-toggleable__label {background-color: #d4ebff;}#sk-container-id-2 input.sk-hidden--visually {border: 0;clip: rect(1px 1px 1px 1px);clip: rect(1px, 1px, 1px, 1px);height: 1px;margin: -1px;overflow: hidden;padding: 0;position: absolute;width: 1px;}#sk-container-id-2 div.sk-estimator {font-family: monospace;background-color: #f0f8ff;border: 1px dotted black;border-radius: 0.25em;box-sizing: border-box;margin-bottom: 0.5em;}#sk-container-id-2 div.sk-estimator:hover {background-color: #d4ebff;}#sk-container-id-2 div.sk-parallel-item::after {content: \"\";width: 100%;border-bottom: 1px solid gray;flex-grow: 1;}#sk-container-id-2 div.sk-label:hover label.sk-toggleable__label {background-color: #d4ebff;}#sk-container-id-2 div.sk-serial::before {content: \"\";position: absolute;border-left: 1px solid gray;box-sizing: border-box;top: 0;bottom: 0;left: 50%;z-index: 0;}#sk-container-id-2 div.sk-serial {display: flex;flex-direction: column;align-items: center;background-color: white;padding-right: 0.2em;padding-left: 0.2em;position: relative;}#sk-container-id-2 div.sk-item {position: relative;z-index: 1;}#sk-container-id-2 div.sk-parallel {display: flex;align-items: stretch;justify-content: center;background-color: white;position: relative;}#sk-container-id-2 div.sk-item::before, #sk-container-id-2 div.sk-parallel-item::before {content: \"\";position: absolute;border-left: 1px solid gray;box-sizing: border-box;top: 0;bottom: 0;left: 50%;z-index: -1;}#sk-container-id-2 div.sk-parallel-item {display: flex;flex-direction: column;z-index: 1;position: relative;background-color: white;}#sk-container-id-2 div.sk-parallel-item:first-child::after {align-self: flex-end;width: 50%;}#sk-container-id-2 div.sk-parallel-item:last-child::after {align-self: flex-start;width: 50%;}#sk-container-id-2 div.sk-parallel-item:only-child::after {width: 0;}#sk-container-id-2 div.sk-dashed-wrapped {border: 1px dashed gray;margin: 0 0.4em 0.5em 0.4em;box-sizing: border-box;padding-bottom: 0.4em;background-color: white;}#sk-container-id-2 div.sk-label label {font-family: monospace;font-weight: bold;display: inline-block;line-height: 1.2em;}#sk-container-id-2 div.sk-label-container {text-align: center;}#sk-container-id-2 div.sk-container {/* jupyter's `normalize.less` sets `[hidden] { display: none; }` but bootstrap.min.css set `[hidden] { display: none !important; }` so we also need the `!important` here to be able to override the default hidden behavior on the sphinx rendered scikit-learn.org. See: https://github.com/scikit-learn/scikit-learn/issues/21755 */display: inline-block !important;position: relative;}#sk-container-id-2 div.sk-text-repr-fallback {display: none;}</style><div id=\"sk-container-id-2\" class=\"sk-top-container\"><div class=\"sk-text-repr-fallback\"><pre>RandomForestRegressor(max_depth=10, max_features=&#x27;sqrt&#x27;, n_estimators=200,\n",
       "                      n_jobs=-1, oob_score=True, random_state=42)</pre><b>In a Jupyter environment, please rerun this cell to show the HTML representation or trust the notebook. <br />On GitHub, the HTML representation is unable to render, please try loading this page with nbviewer.org.</b></div><div class=\"sk-container\" hidden><div class=\"sk-item\"><div class=\"sk-estimator sk-toggleable\"><input class=\"sk-toggleable__control sk-hidden--visually\" id=\"sk-estimator-id-2\" type=\"checkbox\" checked><label for=\"sk-estimator-id-2\" class=\"sk-toggleable__label sk-toggleable__label-arrow\">RandomForestRegressor</label><div class=\"sk-toggleable__content\"><pre>RandomForestRegressor(max_depth=10, max_features=&#x27;sqrt&#x27;, n_estimators=200,\n",
       "                      n_jobs=-1, oob_score=True, random_state=42)</pre></div></div></div></div></div>"
      ],
      "text/plain": [
       "RandomForestRegressor(max_depth=10, max_features='sqrt', n_estimators=200,\n",
       "                      n_jobs=-1, oob_score=True, random_state=42)"
      ]
     },
     "execution_count": 40,
     "metadata": {},
     "output_type": "execute_result"
    }
   ],
   "source": [
    "rfr.fit(X_train_new,y_train_new)"
   ]
  },
  {
   "cell_type": "code",
   "execution_count": 41,
   "id": "3598a0ae",
   "metadata": {
    "execution": {
     "iopub.execute_input": "2025-01-28T13:15:42.596730Z",
     "iopub.status.busy": "2025-01-28T13:15:42.596219Z",
     "iopub.status.idle": "2025-01-28T13:15:42.686258Z",
     "shell.execute_reply": "2025-01-28T13:15:42.684976Z"
    },
    "papermill": {
     "duration": 0.107439,
     "end_time": "2025-01-28T13:15:42.688449",
     "exception": false,
     "start_time": "2025-01-28T13:15:42.581010",
     "status": "completed"
    },
    "tags": []
   },
   "outputs": [],
   "source": [
    "rfr_y_pred = rfr.predict(X_test_new)"
   ]
  },
  {
   "cell_type": "code",
   "execution_count": 42,
   "id": "0e7ddd6a",
   "metadata": {
    "execution": {
     "iopub.execute_input": "2025-01-28T13:15:42.717879Z",
     "iopub.status.busy": "2025-01-28T13:15:42.717384Z",
     "iopub.status.idle": "2025-01-28T13:15:42.726002Z",
     "shell.execute_reply": "2025-01-28T13:15:42.724260Z"
    },
    "papermill": {
     "duration": 0.02535,
     "end_time": "2025-01-28T13:15:42.728002",
     "exception": false,
     "start_time": "2025-01-28T13:15:42.702652",
     "status": "completed"
    },
    "tags": []
   },
   "outputs": [
    {
     "data": {
      "text/plain": [
       "819087936.1498255"
      ]
     },
     "execution_count": 42,
     "metadata": {},
     "output_type": "execute_result"
    }
   ],
   "source": [
    "mean_squared_error(rfr_y_pred,y_test_new)"
   ]
  },
  {
   "cell_type": "code",
   "execution_count": 43,
   "id": "eaed2053",
   "metadata": {
    "execution": {
     "iopub.execute_input": "2025-01-28T13:15:42.758526Z",
     "iopub.status.busy": "2025-01-28T13:15:42.757993Z",
     "iopub.status.idle": "2025-01-28T13:15:42.862927Z",
     "shell.execute_reply": "2025-01-28T13:15:42.861583Z"
    },
    "papermill": {
     "duration": 0.122934,
     "end_time": "2025-01-28T13:15:42.865007",
     "exception": false,
     "start_time": "2025-01-28T13:15:42.742073",
     "status": "completed"
    },
    "tags": []
   },
   "outputs": [],
   "source": [
    "soln_y_pred = rfr.predict(X_test)"
   ]
  },
  {
   "cell_type": "markdown",
   "id": "f0a46a00",
   "metadata": {
    "papermill": {
     "duration": 0.013475,
     "end_time": "2025-01-28T13:15:42.893063",
     "exception": false,
     "start_time": "2025-01-28T13:15:42.879588",
     "status": "completed"
    },
    "tags": []
   },
   "source": [
    "## using gridSearchCV"
   ]
  },
  {
   "cell_type": "code",
   "execution_count": 44,
   "id": "3306441d",
   "metadata": {
    "execution": {
     "iopub.execute_input": "2025-01-28T13:15:42.922229Z",
     "iopub.status.busy": "2025-01-28T13:15:42.921771Z",
     "iopub.status.idle": "2025-01-28T13:15:42.927089Z",
     "shell.execute_reply": "2025-01-28T13:15:42.925687Z"
    },
    "papermill": {
     "duration": 0.022237,
     "end_time": "2025-01-28T13:15:42.929042",
     "exception": false,
     "start_time": "2025-01-28T13:15:42.906805",
     "status": "completed"
    },
    "tags": []
   },
   "outputs": [],
   "source": [
    "from sklearn.model_selection import GridSearchCV"
   ]
  },
  {
   "cell_type": "code",
   "execution_count": 45,
   "id": "489e31c3",
   "metadata": {
    "execution": {
     "iopub.execute_input": "2025-01-28T13:15:42.958797Z",
     "iopub.status.busy": "2025-01-28T13:15:42.958370Z",
     "iopub.status.idle": "2025-01-28T13:15:42.963514Z",
     "shell.execute_reply": "2025-01-28T13:15:42.962005Z"
    },
    "papermill": {
     "duration": 0.022248,
     "end_time": "2025-01-28T13:15:42.965568",
     "exception": false,
     "start_time": "2025-01-28T13:15:42.943320",
     "status": "completed"
    },
    "tags": []
   },
   "outputs": [],
   "source": [
    "model3 = RandomForestRegressor(random_state=42)"
   ]
  },
  {
   "cell_type": "code",
   "execution_count": 46,
   "id": "d20ba85f",
   "metadata": {
    "execution": {
     "iopub.execute_input": "2025-01-28T13:15:42.996976Z",
     "iopub.status.busy": "2025-01-28T13:15:42.996567Z",
     "iopub.status.idle": "2025-01-28T13:15:43.002185Z",
     "shell.execute_reply": "2025-01-28T13:15:43.000934Z"
    },
    "papermill": {
     "duration": 0.023693,
     "end_time": "2025-01-28T13:15:43.004482",
     "exception": false,
     "start_time": "2025-01-28T13:15:42.980789",
     "status": "completed"
    },
    "tags": []
   },
   "outputs": [],
   "source": [
    "param_grid = {\n",
    "    'n_estimators':[50,100,200],\n",
    "    'max_depth':[10,20,None],\n",
    "    'min_samples_split':[2,5,10],\n",
    "    'min_samples_leaf':[1,2,4],\n",
    "    'max_features':['sqrt','log2'],\n",
    "}"
   ]
  },
  {
   "cell_type": "code",
   "execution_count": 47,
   "id": "9669ecdb",
   "metadata": {
    "execution": {
     "iopub.execute_input": "2025-01-28T13:15:43.035613Z",
     "iopub.status.busy": "2025-01-28T13:15:43.035267Z",
     "iopub.status.idle": "2025-01-28T13:15:43.040428Z",
     "shell.execute_reply": "2025-01-28T13:15:43.039064Z"
    },
    "papermill": {
     "duration": 0.022983,
     "end_time": "2025-01-28T13:15:43.042418",
     "exception": false,
     "start_time": "2025-01-28T13:15:43.019435",
     "status": "completed"
    },
    "tags": []
   },
   "outputs": [],
   "source": [
    "grid_search = GridSearchCV(estimator=model3,param_grid=param_grid,scoring='neg_mean_squared_error',cv=5,verbose=2,n_jobs=-1)"
   ]
  },
  {
   "cell_type": "code",
   "execution_count": 48,
   "id": "8fed9cbd",
   "metadata": {
    "execution": {
     "iopub.execute_input": "2025-01-28T13:15:43.073209Z",
     "iopub.status.busy": "2025-01-28T13:15:43.072815Z",
     "iopub.status.idle": "2025-01-28T13:17:34.198582Z",
     "shell.execute_reply": "2025-01-28T13:17:34.196999Z"
    },
    "papermill": {
     "duration": 111.155979,
     "end_time": "2025-01-28T13:17:34.213699",
     "exception": false,
     "start_time": "2025-01-28T13:15:43.057720",
     "status": "completed"
    },
    "tags": []
   },
   "outputs": [
    {
     "name": "stdout",
     "output_type": "stream",
     "text": [
      "Fitting 5 folds for each of 162 candidates, totalling 810 fits\n"
     ]
    },
    {
     "data": {
      "text/html": [
       "<style>#sk-container-id-3 {color: black;background-color: white;}#sk-container-id-3 pre{padding: 0;}#sk-container-id-3 div.sk-toggleable {background-color: white;}#sk-container-id-3 label.sk-toggleable__label {cursor: pointer;display: block;width: 100%;margin-bottom: 0;padding: 0.3em;box-sizing: border-box;text-align: center;}#sk-container-id-3 label.sk-toggleable__label-arrow:before {content: \"▸\";float: left;margin-right: 0.25em;color: #696969;}#sk-container-id-3 label.sk-toggleable__label-arrow:hover:before {color: black;}#sk-container-id-3 div.sk-estimator:hover label.sk-toggleable__label-arrow:before {color: black;}#sk-container-id-3 div.sk-toggleable__content {max-height: 0;max-width: 0;overflow: hidden;text-align: left;background-color: #f0f8ff;}#sk-container-id-3 div.sk-toggleable__content pre {margin: 0.2em;color: black;border-radius: 0.25em;background-color: #f0f8ff;}#sk-container-id-3 input.sk-toggleable__control:checked~div.sk-toggleable__content {max-height: 200px;max-width: 100%;overflow: auto;}#sk-container-id-3 input.sk-toggleable__control:checked~label.sk-toggleable__label-arrow:before {content: \"▾\";}#sk-container-id-3 div.sk-estimator input.sk-toggleable__control:checked~label.sk-toggleable__label {background-color: #d4ebff;}#sk-container-id-3 div.sk-label input.sk-toggleable__control:checked~label.sk-toggleable__label {background-color: #d4ebff;}#sk-container-id-3 input.sk-hidden--visually {border: 0;clip: rect(1px 1px 1px 1px);clip: rect(1px, 1px, 1px, 1px);height: 1px;margin: -1px;overflow: hidden;padding: 0;position: absolute;width: 1px;}#sk-container-id-3 div.sk-estimator {font-family: monospace;background-color: #f0f8ff;border: 1px dotted black;border-radius: 0.25em;box-sizing: border-box;margin-bottom: 0.5em;}#sk-container-id-3 div.sk-estimator:hover {background-color: #d4ebff;}#sk-container-id-3 div.sk-parallel-item::after {content: \"\";width: 100%;border-bottom: 1px solid gray;flex-grow: 1;}#sk-container-id-3 div.sk-label:hover label.sk-toggleable__label {background-color: #d4ebff;}#sk-container-id-3 div.sk-serial::before {content: \"\";position: absolute;border-left: 1px solid gray;box-sizing: border-box;top: 0;bottom: 0;left: 50%;z-index: 0;}#sk-container-id-3 div.sk-serial {display: flex;flex-direction: column;align-items: center;background-color: white;padding-right: 0.2em;padding-left: 0.2em;position: relative;}#sk-container-id-3 div.sk-item {position: relative;z-index: 1;}#sk-container-id-3 div.sk-parallel {display: flex;align-items: stretch;justify-content: center;background-color: white;position: relative;}#sk-container-id-3 div.sk-item::before, #sk-container-id-3 div.sk-parallel-item::before {content: \"\";position: absolute;border-left: 1px solid gray;box-sizing: border-box;top: 0;bottom: 0;left: 50%;z-index: -1;}#sk-container-id-3 div.sk-parallel-item {display: flex;flex-direction: column;z-index: 1;position: relative;background-color: white;}#sk-container-id-3 div.sk-parallel-item:first-child::after {align-self: flex-end;width: 50%;}#sk-container-id-3 div.sk-parallel-item:last-child::after {align-self: flex-start;width: 50%;}#sk-container-id-3 div.sk-parallel-item:only-child::after {width: 0;}#sk-container-id-3 div.sk-dashed-wrapped {border: 1px dashed gray;margin: 0 0.4em 0.5em 0.4em;box-sizing: border-box;padding-bottom: 0.4em;background-color: white;}#sk-container-id-3 div.sk-label label {font-family: monospace;font-weight: bold;display: inline-block;line-height: 1.2em;}#sk-container-id-3 div.sk-label-container {text-align: center;}#sk-container-id-3 div.sk-container {/* jupyter's `normalize.less` sets `[hidden] { display: none; }` but bootstrap.min.css set `[hidden] { display: none !important; }` so we also need the `!important` here to be able to override the default hidden behavior on the sphinx rendered scikit-learn.org. See: https://github.com/scikit-learn/scikit-learn/issues/21755 */display: inline-block !important;position: relative;}#sk-container-id-3 div.sk-text-repr-fallback {display: none;}</style><div id=\"sk-container-id-3\" class=\"sk-top-container\"><div class=\"sk-text-repr-fallback\"><pre>GridSearchCV(cv=5, estimator=RandomForestRegressor(random_state=42), n_jobs=-1,\n",
       "             param_grid={&#x27;max_depth&#x27;: [10, 20, None],\n",
       "                         &#x27;max_features&#x27;: [&#x27;sqrt&#x27;, &#x27;log2&#x27;],\n",
       "                         &#x27;min_samples_leaf&#x27;: [1, 2, 4],\n",
       "                         &#x27;min_samples_split&#x27;: [2, 5, 10],\n",
       "                         &#x27;n_estimators&#x27;: [50, 100, 200]},\n",
       "             scoring=&#x27;neg_mean_squared_error&#x27;, verbose=2)</pre><b>In a Jupyter environment, please rerun this cell to show the HTML representation or trust the notebook. <br />On GitHub, the HTML representation is unable to render, please try loading this page with nbviewer.org.</b></div><div class=\"sk-container\" hidden><div class=\"sk-item sk-dashed-wrapped\"><div class=\"sk-label-container\"><div class=\"sk-label sk-toggleable\"><input class=\"sk-toggleable__control sk-hidden--visually\" id=\"sk-estimator-id-3\" type=\"checkbox\" ><label for=\"sk-estimator-id-3\" class=\"sk-toggleable__label sk-toggleable__label-arrow\">GridSearchCV</label><div class=\"sk-toggleable__content\"><pre>GridSearchCV(cv=5, estimator=RandomForestRegressor(random_state=42), n_jobs=-1,\n",
       "             param_grid={&#x27;max_depth&#x27;: [10, 20, None],\n",
       "                         &#x27;max_features&#x27;: [&#x27;sqrt&#x27;, &#x27;log2&#x27;],\n",
       "                         &#x27;min_samples_leaf&#x27;: [1, 2, 4],\n",
       "                         &#x27;min_samples_split&#x27;: [2, 5, 10],\n",
       "                         &#x27;n_estimators&#x27;: [50, 100, 200]},\n",
       "             scoring=&#x27;neg_mean_squared_error&#x27;, verbose=2)</pre></div></div></div><div class=\"sk-parallel\"><div class=\"sk-parallel-item\"><div class=\"sk-item\"><div class=\"sk-label-container\"><div class=\"sk-label sk-toggleable\"><input class=\"sk-toggleable__control sk-hidden--visually\" id=\"sk-estimator-id-4\" type=\"checkbox\" ><label for=\"sk-estimator-id-4\" class=\"sk-toggleable__label sk-toggleable__label-arrow\">estimator: RandomForestRegressor</label><div class=\"sk-toggleable__content\"><pre>RandomForestRegressor(random_state=42)</pre></div></div></div><div class=\"sk-serial\"><div class=\"sk-item\"><div class=\"sk-estimator sk-toggleable\"><input class=\"sk-toggleable__control sk-hidden--visually\" id=\"sk-estimator-id-5\" type=\"checkbox\" ><label for=\"sk-estimator-id-5\" class=\"sk-toggleable__label sk-toggleable__label-arrow\">RandomForestRegressor</label><div class=\"sk-toggleable__content\"><pre>RandomForestRegressor(random_state=42)</pre></div></div></div></div></div></div></div></div></div></div>"
      ],
      "text/plain": [
       "GridSearchCV(cv=5, estimator=RandomForestRegressor(random_state=42), n_jobs=-1,\n",
       "             param_grid={'max_depth': [10, 20, None],\n",
       "                         'max_features': ['sqrt', 'log2'],\n",
       "                         'min_samples_leaf': [1, 2, 4],\n",
       "                         'min_samples_split': [2, 5, 10],\n",
       "                         'n_estimators': [50, 100, 200]},\n",
       "             scoring='neg_mean_squared_error', verbose=2)"
      ]
     },
     "execution_count": 48,
     "metadata": {},
     "output_type": "execute_result"
    }
   ],
   "source": [
    "grid_search.fit(X_train_new,y_train_new)"
   ]
  },
  {
   "cell_type": "code",
   "execution_count": 49,
   "id": "337d9594",
   "metadata": {
    "execution": {
     "iopub.execute_input": "2025-01-28T13:17:34.245178Z",
     "iopub.status.busy": "2025-01-28T13:17:34.244657Z",
     "iopub.status.idle": "2025-01-28T13:17:34.312592Z",
     "shell.execute_reply": "2025-01-28T13:17:34.311004Z"
    },
    "papermill": {
     "duration": 0.087198,
     "end_time": "2025-01-28T13:17:34.315566",
     "exception": false,
     "start_time": "2025-01-28T13:17:34.228368",
     "status": "completed"
    },
    "tags": []
   },
   "outputs": [],
   "source": [
    "gscv_y_pred = grid_search.predict(X_test)"
   ]
  },
  {
   "cell_type": "code",
   "execution_count": null,
   "id": "35041c52",
   "metadata": {
    "papermill": {
     "duration": 0.015471,
     "end_time": "2025-01-28T13:17:34.442129",
     "exception": false,
     "start_time": "2025-01-28T13:17:34.426658",
     "status": "completed"
    },
    "tags": []
   },
   "outputs": [],
   "source": []
  },
  {
   "cell_type": "code",
   "execution_count": null,
   "id": "6d560e9d",
   "metadata": {
    "papermill": {
     "duration": 0.015249,
     "end_time": "2025-01-28T13:17:34.472951",
     "exception": false,
     "start_time": "2025-01-28T13:17:34.457702",
     "status": "completed"
    },
    "tags": []
   },
   "outputs": [],
   "source": []
  },
  {
   "cell_type": "code",
   "execution_count": null,
   "id": "804edb08",
   "metadata": {
    "papermill": {
     "duration": 0.014954,
     "end_time": "2025-01-28T13:17:34.503053",
     "exception": false,
     "start_time": "2025-01-28T13:17:34.488099",
     "status": "completed"
    },
    "tags": []
   },
   "outputs": [],
   "source": []
  },
  {
   "cell_type": "code",
   "execution_count": null,
   "id": "bddf205f",
   "metadata": {
    "papermill": {
     "duration": 0.01605,
     "end_time": "2025-01-28T13:17:34.536394",
     "exception": false,
     "start_time": "2025-01-28T13:17:34.520344",
     "status": "completed"
    },
    "tags": []
   },
   "outputs": [],
   "source": []
  },
  {
   "cell_type": "code",
   "execution_count": 50,
   "id": "35d95af7",
   "metadata": {
    "execution": {
     "iopub.execute_input": "2025-01-28T13:17:34.568994Z",
     "iopub.status.busy": "2025-01-28T13:17:34.568441Z",
     "iopub.status.idle": "2025-01-28T13:17:34.575111Z",
     "shell.execute_reply": "2025-01-28T13:17:34.573497Z"
    },
    "papermill": {
     "duration": 0.025217,
     "end_time": "2025-01-28T13:17:34.577192",
     "exception": false,
     "start_time": "2025-01-28T13:17:34.551975",
     "status": "completed"
    },
    "tags": []
   },
   "outputs": [],
   "source": [
    "output = pd.DataFrame({'Id':df_test.Id,'SalePrice':gscv_y_pred})"
   ]
  },
  {
   "cell_type": "code",
   "execution_count": 51,
   "id": "157f2a29",
   "metadata": {
    "execution": {
     "iopub.execute_input": "2025-01-28T13:17:34.607722Z",
     "iopub.status.busy": "2025-01-28T13:17:34.607277Z",
     "iopub.status.idle": "2025-01-28T13:17:34.624001Z",
     "shell.execute_reply": "2025-01-28T13:17:34.622421Z"
    },
    "papermill": {
     "duration": 0.033853,
     "end_time": "2025-01-28T13:17:34.625979",
     "exception": false,
     "start_time": "2025-01-28T13:17:34.592126",
     "status": "completed"
    },
    "tags": []
   },
   "outputs": [
    {
     "name": "stdout",
     "output_type": "stream",
     "text": [
      "Your submission was successfully saved!\n"
     ]
    }
   ],
   "source": [
    "output.to_csv('submission.csv', index=False)\n",
    "print(\"Your submission was successfully saved!\")"
   ]
  },
  {
   "cell_type": "code",
   "execution_count": null,
   "id": "1933f0a0",
   "metadata": {
    "papermill": {
     "duration": 0.014227,
     "end_time": "2025-01-28T13:17:34.655908",
     "exception": false,
     "start_time": "2025-01-28T13:17:34.641681",
     "status": "completed"
    },
    "tags": []
   },
   "outputs": [],
   "source": []
  }
 ],
 "metadata": {
  "kaggle": {
   "accelerator": "none",
   "dataSources": [
    {
     "databundleVersionId": 868283,
     "sourceId": 5407,
     "sourceType": "competition"
    }
   ],
   "dockerImageVersionId": 30839,
   "isGpuEnabled": false,
   "isInternetEnabled": true,
   "language": "python",
   "sourceType": "notebook"
  },
  "kernelspec": {
   "display_name": "Python 3",
   "language": "python",
   "name": "python3"
  },
  "language_info": {
   "codemirror_mode": {
    "name": "ipython",
    "version": 3
   },
   "file_extension": ".py",
   "mimetype": "text/x-python",
   "name": "python",
   "nbconvert_exporter": "python",
   "pygments_lexer": "ipython3",
   "version": "3.10.12"
  },
  "papermill": {
   "default_parameters": {},
   "duration": 122.308429,
   "end_time": "2025-01-28T13:17:35.798040",
   "environment_variables": {},
   "exception": null,
   "input_path": "__notebook__.ipynb",
   "output_path": "__notebook__.ipynb",
   "parameters": {},
   "start_time": "2025-01-28T13:15:33.489611",
   "version": "2.6.0"
  }
 },
 "nbformat": 4,
 "nbformat_minor": 5
}
